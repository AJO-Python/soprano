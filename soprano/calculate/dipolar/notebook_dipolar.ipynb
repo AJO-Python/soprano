{
 "cells": [
  {
   "cell_type": "code",
   "execution_count": 1,
   "id": "e2a1302e",
   "metadata": {},
   "outputs": [],
   "source": [
    "import scipy as sci\n",
    "import numpy as np\n",
    "import matplotlib.pyplot as plt\n",
    "\n",
    "from ase import Atoms\n",
    "from ase.io import read, write"
   ]
  },
  {
   "cell_type": "code",
   "execution_count": 2,
   "id": "3ae3fd30",
   "metadata": {},
   "outputs": [],
   "source": [
    "class DipolarField():\n",
    "    \"\"\"A class for sampling Dipolar Field distributions from atomic structures\"\"\"\n",
    "\n",
    "    def __init__(self, info):\n",
    "        \"\"\"Init method for class\"\"\"\n",
    "        self.info = info\n",
    "\n",
    "    @staticmethod\n",
    "    def _from_atoms(atoms):\n",
    "        \"\"\"init method for use with ASE.AtomsCollection\n",
    "        \"\"\"\n",
    "        return DipolarField(atoms)\n",
    "        \n",
    "        \n",
    "    def frac_to_abs(self, coords):\n",
    "        \"\"\"Converts fractional coordinates to absolute\"\"\"\n",
    "        return coords\n",
    "    \n",
    "    def abs_to_frac(self, coords):\n",
    "        \"\"\"Converts fractional coordinates to absolute\"\"\"        \n",
    "        return coords\n",
    "    \n",
    "    def set_gyro_ratios(self):\n",
    "        \"\"\"Sets the gyromagnetic ratios of the spins depending on the Element/isotope list given\n",
    "        \"\"\" \n",
    "        for symbol in self.symbols:\n",
    "            self.gyro_ratios.append(get_gyro_from_symbol)"
   ]
  },
  {
   "cell_type": "code",
   "execution_count": 3,
   "id": "6a87b1ab",
   "metadata": {},
   "outputs": [
    {
     "output_type": "stream",
     "name": "stdout",
     "text": [
      "[Atoms(symbols='Si', pbc=True, cell=[[0.0, 5.0, 5.0], [5.0, 0.0, 5.0], [5.0, 5.0, 0.0]])]\nCell:  Cell([[0.0, 5.0, 5.0], [5.0, 0.0, 5.0], [5.0, 5.0, 0.0]])\nPositions:  [[0. 0. 0.]]\nSpecies:  ['Si']\nPBC:  [ True  True  True]\n"
     ]
    }
   ],
   "source": [
    "si_atoms = read(\"Si.json\", index=\":\", format=\"json\")\n",
    "print(si_atoms)\n",
    "si_obj = DipolarField._from_atoms(si_atoms)\n",
    "\n",
    "si = si_atoms[0]\n",
    "print(\"Cell: \", si.get_cell())\n",
    "print(\"Positions: \", si.get_positions())\n",
    "print(\"Species: \", si.get_chemical_symbols())\n",
    "print(\"PBC: \", si.get_pbc())\n"
   ]
  },
  {
   "cell_type": "code",
   "execution_count": 11,
   "id": "deb3ba2f",
   "metadata": {},
   "outputs": [
    {
     "name": "stdout",
     "output_type": "stream",
     "text": [
      "/mnt/c/Users/adg51575/Documents/code/soprano/soprano/calculate/dipolar\n"
     ]
    }
   ],
   "source": [
    "arr = np.array([])\n"
   ]
  },
  {
   "cell_type": "code",
   "execution_count": null,
   "id": "94411a49",
   "metadata": {},
   "outputs": [],
   "source": []
  }
 ],
 "metadata": {
  "kernelspec": {
   "name": "python3810jvsc74a57bd0e33fd43a8baa3fa1565fb1970a3d3c564d5fdd3dfcf30856c28c8274e2837a94",
   "display_name": "Python 3.8.10 64-bit ('win_soprano.venv': venv)"
  },
  "language_info": {
   "codemirror_mode": {
    "name": "ipython",
    "version": 3
   },
   "file_extension": ".py",
   "mimetype": "text/x-python",
   "name": "python",
   "nbconvert_exporter": "python",
   "pygments_lexer": "ipython3",
   "version": "3.8.10"
  },
  "metadata": {
   "interpreter": {
    "hash": "e33fd43a8baa3fa1565fb1970a3d3c564d5fdd3dfcf30856c28c8274e2837a94"
   }
  }
 },
 "nbformat": 4,
 "nbformat_minor": 5
}