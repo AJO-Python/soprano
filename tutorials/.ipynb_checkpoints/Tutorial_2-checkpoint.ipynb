{
 "cells": [
  {
   "cell_type": "code",
   "execution_count": 1,
   "metadata": {
    "collapsed": false
   },
   "outputs": [
    {
     "name": "stdout",
     "output_type": "stream",
     "text": [
      "\n"
     ]
    }
   ],
   "source": [
    "\"\"\"\n",
    "SOPRANO: a Python library for generation, manipulation and analysis of large batches of crystalline structures\n",
    "by Simone Sturniolo\n",
    "      _\n",
    "    /|_|\\ \n",
    "   / / \\ \\\n",
    "  /_/   \\_\\\n",
    "  \\ \\   / /\n",
    "   \\ \\_/ /\n",
    "    \\|_|/\n",
    "    \n",
    "Developed within the CCP-NC project. Copyright STFC 2016\n",
    "\n",
    "\n",
    "TUTORIAL 2 - Generators, Properties and Calculators\n",
    "\n",
    "\"\"\"\n",
    "\n",
    "print"
   ]
  },
  {
   "cell_type": "code",
   "execution_count": 2,
   "metadata": {
    "collapsed": true
   },
   "outputs": [],
   "source": [
    "# Basic imports\n",
    "import os, sys\n",
    "sys.path.insert(0, os.path.abspath('..')) # This to add the Soprano path to the PYTHONPATH\n",
    "                                          # so we can load it without installing it"
   ]
  },
  {
   "cell_type": "code",
   "execution_count": 24,
   "metadata": {
    "collapsed": false
   },
   "outputs": [],
   "source": [
    "# Other useful imports\n",
    "\n",
    "import numpy as np\n",
    "\n",
    "from ase import Atoms\n",
    "from ase import io as ase_io\n",
    "\n",
    "from soprano.collection import AtomsCollection\n",
    "from soprano.collection.generate import linspaceGen\n",
    "from soprano.properties import AtomsProperty\n",
    "from soprano.properties.linkage import LinkageList"
   ]
  },
  {
   "cell_type": "code",
   "execution_count": 32,
   "metadata": {
    "collapsed": false
   },
   "outputs": [],
   "source": [
    "\"\"\"\n",
    "1 - USING GENERATORS\n",
    "\n",
    "Soprano provides a series of generators able to create multiple structures on one go based on simple criteria.\n",
    "One of these, used here, is the linspaceGen, which interpolates linearly between two extreme structures. Others \n",
    "are the rattleGen (generating copies of a given structure with random atomic displacements) and the airssGen\n",
    "(binding to AIRSS' buildcell executable to generate random structures, only available if AIRSS is installed).\n",
    "\"\"\"\n",
    "\n",
    "# Let's use the ammonia molecule switching configurations as an example\n",
    "nh3coords = np.array([[ 2.5,     2.5,     2.5   ],\n",
    "                      [ 3.4373,  2.5,     2.1193],\n",
    "                      [ 2.0314,  3.3117,  2.1193],\n",
    "                      [ 2.0314,  1.6883,  2.1193]])\n",
    "nh3l = Atoms('NHHH', nh3coords, cell=[5,5,5]) # The cell is just an empty box\n",
    "# Now the right version\n",
    "nh3coords *= [1, 1, -1]\n",
    "nh3r = Atoms('NHHH', nh3coords, cell=[5,5,5])\n",
    "\n",
    "# Now let's build a collection of 20 intermediate steps between the two structures\n",
    "nh3linsp = linspaceGen(nh3l, nh3r, steps=20, periodic=True)\n",
    "# Generators can be passed directly to the AtomsCollection constructor\n",
    "nh3coll = AtomsCollection(nh3linsp)"
   ]
  },
  {
   "cell_type": "code",
   "execution_count": 33,
   "metadata": {
    "collapsed": false
   },
   "outputs": [
    {
     "name": "stdout",
     "output_type": "stream",
     "text": [
      "---- Linkage List for all NH3 configurations - Default parameters\n",
      "\n",
      "[ 1.01162016  1.01162016  1.01166387  1.62339512  1.62339512  1.6234    ]\n",
      "[ 0.99723073  0.99723073  0.99727508  1.62339512  1.62339512  1.6234    ]\n",
      "[ 0.98426355  0.98426355  0.98430848  1.62339512  1.62339512  1.6234    ]\n",
      "[ 0.97277548  0.97277548  0.97282094  1.62339512  1.62339512  1.6234    ]\n",
      "[ 0.96281947  0.96281947  0.9628654   1.62339512  1.62339512  1.6234    ]\n",
      "[ 0.95444347  0.95444347  0.95448979  1.62339512  1.62339512  1.6234    ]\n",
      "[ 0.94768936  0.94768936  0.94773602  1.62339512  1.62339512  1.6234    ]\n",
      "[ 0.94259203  0.94259203  0.94263894  1.62339512  1.62339512  1.6234    ]\n",
      "[ 0.93917843  0.93917843  0.93922551  1.62339512  1.62339512  1.6234    ]\n",
      "[ 0.93746697  0.93746697  0.93751414  1.62339512  1.62339512  1.6234    ]\n",
      "[ 0.93746697  0.93746697  0.93751414  1.62339512  1.62339512  1.6234    ]\n",
      "[ 0.93917843  0.93917843  0.93922551  1.62339512  1.62339512  1.6234    ]\n",
      "[ 0.94259203  0.94259203  0.94263894  1.62339512  1.62339512  1.6234    ]\n",
      "[ 0.94768936  0.94768936  0.94773602  1.62339512  1.62339512  1.6234    ]\n",
      "[ 0.95444347  0.95444347  0.95448979  1.62339512  1.62339512  1.6234    ]\n",
      "[ 0.96281947  0.96281947  0.9628654   1.62339512  1.62339512  1.6234    ]\n",
      "[ 0.97277548  0.97277548  0.97282094  1.62339512  1.62339512  1.6234    ]\n",
      "[ 0.98426355  0.98426355  0.98430848  1.62339512  1.62339512  1.6234    ]\n",
      "[ 0.99723073  0.99723073  0.99727508  1.62339512  1.62339512  1.6234    ]\n",
      "[ 1.01162016  1.01162016  1.01166387  1.62339512  1.62339512  1.6234    ] \n",
      "\n",
      "\n"
     ]
    }
   ],
   "source": [
    "\"\"\"\n",
    "2 - PROPERTIES\n",
    "\n",
    "Soprano Properties are classes meant to extract complex arrays of information from collections.\n",
    "A number of these are provided by default, but advanced users can easily create their own class\n",
    "inheriting from the generic AtomsProperty class to implement particular needs.\n",
    "\"\"\"\n",
    "\n",
    "# As a first experiment we try using LinkageList, a property meant to return a list of all pair interatomic distances\n",
    "# in a system. This can serve as a fingerprint to distinguish different structures\n",
    "\n",
    "# The basic usage is to just call the Property's method \"get\". In this way the Property is calculated with\n",
    "# default parameters.\n",
    "# The three shortest values (varying) are N-H distances, while the constant ones are H-H distances\n",
    "\n",
    "print \"---- Linkage List for all NH3 configurations - Default parameters\\n\"\n",
    "print '\\n'.join(['{0}'.format(x) for x in LinkageList.get(nh3coll)]), \"\\n\\n\""
   ]
  },
  {
   "cell_type": "code",
   "execution_count": 34,
   "metadata": {
    "collapsed": false
   },
   "outputs": [
    {
     "name": "stdout",
     "output_type": "stream",
     "text": [
      "---- Linkage List for all NH3 configurations - Custom parameters\n",
      "\n",
      "[ 1.01162016  1.01162016  1.01166387]\n",
      "[ 0.99723073  0.99723073  0.99727508]\n",
      "[ 0.98426355  0.98426355  0.98430848]\n",
      "[ 0.97277548  0.97277548  0.97282094]\n",
      "[ 0.96281947  0.96281947  0.9628654 ]\n",
      "[ 0.95444347  0.95444347  0.95448979]\n",
      "[ 0.94768936  0.94768936  0.94773602]\n",
      "[ 0.94259203  0.94259203  0.94263894]\n",
      "[ 0.93917843  0.93917843  0.93922551]\n",
      "[ 0.93746697  0.93746697  0.93751414]\n",
      "[ 0.93746697  0.93746697  0.93751414]\n",
      "[ 0.93917843  0.93917843  0.93922551]\n",
      "[ 0.94259203  0.94259203  0.94263894]\n",
      "[ 0.94768936  0.94768936  0.94773602]\n",
      "[ 0.95444347  0.95444347  0.95448979]\n",
      "[ 0.96281947  0.96281947  0.9628654 ]\n",
      "[ 0.97277548  0.97277548  0.97282094]\n",
      "[ 0.98426355  0.98426355  0.98430848]\n",
      "[ 0.99723073  0.99723073  0.99727508]\n",
      "[ 1.01162016  1.01162016  1.01166387] \n",
      "\n",
      "\n"
     ]
    }
   ],
   "source": [
    "# If one wants to use a parameters, an instance of the Property has to be created.\n",
    "# For example LinkageList accepts a parameter \"size\" that limits the number of distances computed.\n",
    "# This can then just be called on the AtomsCollection\n",
    "\n",
    "customLL = LinkageList(size=3)\n",
    "\n",
    "print \"---- Linkage List for all NH3 configurations - Custom parameters\\n\"\n",
    "print '\\n'.join(['{0}'.format(x) for x in customLL(nh3coll)]), \"\\n\\n\""
   ]
  },
  {
   "cell_type": "code",
   "execution_count": 46,
   "metadata": {
    "collapsed": false
   },
   "outputs": [
    {
     "name": "stdout",
     "output_type": "stream",
     "text": [
      "---- Hydrogen COM for all NH3 configurations\n",
      "\n",
      "[ 2.50003333  2.5         2.1193    ]\n",
      "[ 2.50003333  2.5         2.15937368]\n",
      "[ 2.50003333  2.5         2.19944737]\n",
      "[ 2.50003333  2.5         2.23952105]\n",
      "[ 2.50003333  2.5         2.27959474]\n",
      "[ 2.50003333  2.5         2.31966842]\n",
      "[ 2.50003333  2.5         2.35974211]\n",
      "[ 2.50003333  2.5         2.39981579]\n",
      "[ 2.50003333  2.5         2.43988947]\n",
      "[ 2.50003333  2.5         2.47996316]\n",
      "[ 2.50003333  2.5         2.52003684]\n",
      "[ 2.50003333  2.5         2.56011053]\n",
      "[ 2.50003333  2.5         2.60018421]\n",
      "[ 2.50003333  2.5         2.64025789]\n",
      "[ 2.50003333  2.5         2.68033158]\n",
      "[ 2.50003333  2.5         2.72040526]\n",
      "[ 2.50003333  2.5         2.76047895]\n",
      "[ 2.50003333  2.5         2.80055263]\n",
      "[ 2.50003333  2.5         2.84062632]\n",
      "[ 2.50003333  2.5         2.8807    ] \n",
      "\n",
      "\n"
     ]
    }
   ],
   "source": [
    "# Now we can try creating a custom property. This one will calculate the center of mass of all Hydrogen atoms.\n",
    "\n",
    "class HydrogenCOM(AtomsProperty):\n",
    "    \n",
    "    default_name = 'hydrogen_com' # These need to be defined for any property\n",
    "    default_params = {}\n",
    "    \n",
    "    @staticmethod\n",
    "    def extract(s): # This is where the core of the calculation happens\n",
    "        # s is a single Atoms object passed to this method\n",
    "        \n",
    "        chemsyms = s.get_chemical_symbols()\n",
    "        h_inds = [i for i, sym in enumerate(chemsyms) if sym == 'H']\n",
    "        h_pos = s.get_positions()[h_inds]\n",
    "        com = np.average(h_pos, axis=0)\n",
    "        \n",
    "        return com\n",
    "\n",
    "print \"---- Hydrogen COM for all NH3 configurations\\n\"\n",
    "print '\\n'.join(['{0}'.format(x) for x in HydrogenCOM.get(nh3coll)]), \"\\n\\n\""
   ]
  },
  {
   "cell_type": "code",
   "execution_count": null,
   "metadata": {
    "collapsed": true
   },
   "outputs": [],
   "source": []
  }
 ],
 "metadata": {
  "kernelspec": {
   "display_name": "Python 2",
   "language": "python",
   "name": "python2"
  },
  "language_info": {
   "codemirror_mode": {
    "name": "ipython",
    "version": 2
   },
   "file_extension": ".py",
   "mimetype": "text/x-python",
   "name": "python",
   "nbconvert_exporter": "python",
   "pygments_lexer": "ipython2",
   "version": "2.7.11"
  }
 },
 "nbformat": 4,
 "nbformat_minor": 0
}
