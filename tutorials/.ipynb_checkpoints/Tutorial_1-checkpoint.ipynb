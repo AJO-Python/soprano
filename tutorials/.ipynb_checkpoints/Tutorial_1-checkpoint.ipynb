{
 "cells": [
  {
   "cell_type": "code",
   "execution_count": 99,
   "metadata": {
    "collapsed": false
   },
   "outputs": [
    {
     "name": "stdout",
     "output_type": "stream",
     "text": [
      "\n"
     ]
    }
   ],
   "source": [
    "\"\"\"\n",
    "SOPRANO: a Python library for generation, manipulation and analysis of large batches of crystalline structures\n",
    "by Simone Sturniolo\n",
    "      _\n",
    "    /|_|\\ \n",
    "   / / \\ \\\n",
    "  /_/   \\_\\\n",
    "  \\ \\   / /\n",
    "   \\ \\_/ /\n",
    "    \\|_|/\n",
    "    \n",
    "Developed within the CCP-NC project. Copyright STFC 2016\n",
    "\n",
    "\n",
    "TUTORIAL 1 - Basic concepts: using AtomsCollection objects\n",
    "\n",
    "\"\"\"\n",
    "\n",
    "print"
   ]
  },
  {
   "cell_type": "code",
   "execution_count": 100,
   "metadata": {
    "collapsed": true
   },
   "outputs": [],
   "source": [
    "# Basic imports\n",
    "import os, sys\n",
    "sys.path.insert(0, os.path.abspath('..')) # This to add the Soprano path to the PYTHONPATH\n",
    "                                          # so we can load it without installing it"
   ]
  },
  {
   "cell_type": "code",
   "execution_count": 101,
   "metadata": {
    "collapsed": false
   },
   "outputs": [],
   "source": [
    "# Other useful imports\n",
    "\n",
    "import glob\n",
    "\n",
    "import numpy as np\n",
    "\n",
    "import ase\n",
    "from ase import io as ase_io\n",
    "\n",
    "from soprano.collection import AtomsCollection"
   ]
  },
  {
   "cell_type": "code",
   "execution_count": 102,
   "metadata": {
    "collapsed": true
   },
   "outputs": [],
   "source": [
    "# TO BE REMOVED AFTER COMPLETION\n",
    "\n",
    "bccfe = ase.Atoms('FeFeFeFe',\n",
    "                  scaled_positions=[[0, 0, 0], [0.25, 0.5, 0.5], [0.5, 0, 0], [0.75, 0.5, 0.5]],\n",
    "                  cell=[2.9*2, 2.9, 2.9])\n",
    "fccfe = ase.Atoms('FeFeFeFe',\n",
    "                  scaled_positions=[[0, 0, 0], [0.5, 0.5, 0.0], [0.0, 0.5, 0.5], [0.5, 0.0, 0.5]],\n",
    "                  cell=[3.59]*3)\n",
    "\n",
    "from soprano.collection.generate import rattleGen\n",
    "\n",
    "rgbcc = rattleGen(bccfe, amplitude=0.3)\n",
    "rgfcc = rattleGen(fccfe, amplitude=0.3)\n",
    "\n",
    "for i in range(10):\n",
    "    rgrnd = np.random.choice([rgbcc, rgfcc])\n",
    "    s = next(rgrnd)\n",
    "    ase_io.write('tutorial_data/struct_{0}.cif'.format(i+1), s)"
   ]
  },
  {
   "cell_type": "code",
   "execution_count": 103,
   "metadata": {
    "collapsed": false
   },
   "outputs": [
    {
     "name": "stdout",
     "output_type": "stream",
     "text": [
      "Loading collection...\n",
      "\r",
      "Loading: [██                  ] -\r",
      "Loading: [████                ] |\r",
      "Loading: [██████              ] -\r",
      "Loading: [████████            ] |\r",
      "Loading: [██████████          ] -\r",
      "Loading: [████████████        ] |\r",
      "Loading: [██████████████      ] -\r",
      "Loading: [████████████████    ] |\r",
      "Loading: [██████████████████  ] -\r",
      "Loading: [████████████████████] |\n",
      "Loaded 10 structures\n"
     ]
    }
   ],
   "source": [
    "\"\"\"\n",
    "1 - LOADING STRUCTURES\n",
    "\n",
    "Soprano can handle multiple structure loading into a single AtomsCollection object.\n",
    "The structures are loaded singularly as ASE (Atomic Simulation Environment) Atoms objects.\n",
    "\"\"\"\n",
    "\n",
    "# List all files in the tutorial directory\n",
    "cifs = glob.glob('tutorial_data/struct*.cif')\n",
    "\n",
    "aColl = AtomsCollection(cifs, progress=True) # \"progress\" means we will visualize a loading bar"
   ]
  },
  {
   "cell_type": "code",
   "execution_count": 104,
   "metadata": {
    "collapsed": false,
    "scrolled": true
   },
   "outputs": [
    {
     "name": "stdout",
     "output_type": "stream",
     "text": [
      "Help on class AtomsCollection in module soprano.collection.collection:\n",
      "\n",
      "class AtomsCollection(__builtin__.object)\n",
      " |  AtomsCollection object.\n",
      " |  \n",
      " |  An AtomsCollection represents a group of ASE Atoms objects.\n",
      " |  It handles them together, can perform mass operations on them, and stores\n",
      " |  arrays of informations related to them.\n",
      " |  \n",
      " |  Methods defined here:\n",
      " |  \n",
      " |  __add__(self, other)\n",
      " |      Addition of two collections brings a merging\n",
      " |  \n",
      " |  __deepcopy__(self, memodict={})\n",
      " |      Protects against problems with infinite recursion in AllCaller\n",
      " |  \n",
      " |  __getitem__(self, indices)\n",
      " |      Allow sophisticated slicing\n",
      " |  \n",
      " |  __iadd__(self, other)\n",
      " |  \n",
      " |  __init__(self, structures=[], info={}, cell_reduce=False, progress=False)\n",
      " |      Initialize the AtomsCollection\n",
      " |      \n",
      " |      | Args:\n",
      " |      |    structures (list[str] or list[ase.Atoms]): list of file names or\n",
      " |      |                                               Atoms that will form\n",
      " |      |                                               the collection\n",
      " |      |    info (dict): dictionary of general information to attach\n",
      " |      |                 to this collection\n",
      " |      |    cell_reduce (bool): if True, perform a Niggli cell reduction on\n",
      " |      |                        all loaded structures\n",
      " |      |    progress (bool): visualize a progress bar for the loading process\n",
      " |  \n",
      " |  chunkify(self, chunk_size=None, chunk_n=None)\n",
      " |      Split this collection into multiple collections based on either\n",
      " |      size or number of chunks.\n",
      " |      \n",
      " |      | Args:\n",
      " |      |   chunk_size (Optional[int]): maximum size of a generated chunk\n",
      " |      |   chunk_n (Optional[int]): number of chunks to generate\n",
      " |      \n",
      " |      | Returns:\n",
      " |      |   chunks (list[AtomsCollection]): a list of the generated chunks\n",
      " |  \n",
      " |  get_array(self, name, copy=True)\n",
      " |      Get a copy of an array of given name (or a reference if copy=False)\n",
      " |      \n",
      " |      | Args:\n",
      " |      |   name (str): name of the array to retrieve.\n",
      " |      |   copy (bool): if the array should be copied or a reference should\n",
      " |      |                be returned instead.\n",
      " |      \n",
      " |      | Returns:\n",
      " |      |   array (np.ndarray): the requested array\n",
      " |  \n",
      " |  has(self, name)\n",
      " |      Check if array of given name exists\n",
      " |  \n",
      " |  run_calculators(self, properties=None, system_changes=None)\n",
      " |      Run all previously set ASE calculators.\n",
      " |      \n",
      " |      | Args:\n",
      " |      |   properties (list[str]): list of properties to calculate (depends\n",
      " |      |                           on type of Calculator used)\n",
      " |      |   system_changes (list[str]): list of changes to the structure\n",
      " |      |                               since the last calculation. Can be\n",
      " |      |                               any combination of these five:\n",
      " |      |                               'positions', 'numbers', 'cell',\n",
      " |      |                               'pbc', 'initial_charges' and\n",
      " |      |                               'initial_magmoms'.\n",
      " |  \n",
      " |  save(self, filename)\n",
      " |      Simply save a pickled copy to a given file path\n",
      " |  \n",
      " |  set_array(self, name, a, dtype=None, shape=None, args={})\n",
      " |      Add or modify an array of data related to the Atoms objects\n",
      " |      in this collection.\n",
      " |      \n",
      " |      | Args:\n",
      " |      |   name (str): name of the array to operate on.\n",
      " |      |   a (np.ndarray or function<Atoms, **kwargs>\n",
      " |      |                    => Any): the data to assign to the array (must\n",
      " |      |                             be same length as the collection) or\n",
      " |      |                             a function that takes an Atoms object\n",
      " |      |                             as the first argument and returns a\n",
      " |      |                             value. This will be mapped over the\n",
      " |      |                             structures to create the array.\n",
      " |      |   dtype (type): type to cast the values of the array to.\n",
      " |      |   shape (tuple [int]): shape of each entry of the array. Will be\n",
      " |      |                        checked if provided.\n",
      " |      |   args (dict): named arguments to pass to the function provided\n",
      " |      |                as a. Will be ignored if an array is passed instead.\n",
      " |  \n",
      " |  set_calculators(self, calctype, labels=None, params={})\n",
      " |      Set an ASE calculator on each structure in the collection,\n",
      " |      and set said calculator's parameters.\n",
      " |      \n",
      " |      | Args:\n",
      " |      |   calctype (ASE Calculator type): the type of calculator\n",
      " |      |                                   to instantiate.\n",
      " |      |   labels (Optional[list[str]]): names to use for the calculators'\n",
      " |      |                                 files. If not present, random\n",
      " |      |                                 generated names are used.\n",
      " |      |   params (Optional[dict]): parameters of the calculator to set.\n",
      " |  \n",
      " |  sorted_byarray(self, name, reverse=False)\n",
      " |      Return a copy of this collection sorted by a given array.\n",
      " |      \n",
      " |      | Args:\n",
      " |      |   name (str): name of the array to use for the sorting\n",
      " |      |   reverse (Optional[bool]): reverse order of sorting (max to min)\n",
      " |      \n",
      " |      | Returns:\n",
      " |      |   sorted (AtomsCollection): a sorted copy of the collection\n",
      " |  \n",
      " |  ----------------------------------------------------------------------\n",
      " |  Static methods defined here:\n",
      " |  \n",
      " |  load(filename)\n",
      " |      Load a pickled copy from a given file path\n",
      " |  \n",
      " |  ----------------------------------------------------------------------\n",
      " |  Data descriptors defined here:\n",
      " |  \n",
      " |  __dict__\n",
      " |      dictionary for instance variables (if defined)\n",
      " |  \n",
      " |  __weakref__\n",
      " |      list of weak references to the object (if defined)\n",
      " |  \n",
      " |  all\n",
      " |  \n",
      " |  length\n",
      "\n"
     ]
    }
   ],
   "source": [
    "\"\"\"\n",
    "2 - HANDLING COLLECTIONS\n",
    "\n",
    "Collections are a convenient way of manipulating multiple structures. They allow for many operations that act\n",
    "collectively on all Atoms objects, or return values from them all at once.\n",
    "\"\"\"\n",
    "\n",
    "help(AtomsCollection)"
   ]
  },
  {
   "cell_type": "code",
   "execution_count": 105,
   "metadata": {
    "collapsed": false,
    "scrolled": true
   },
   "outputs": [
    {
     "name": "stdout",
     "output_type": "stream",
     "text": [
      "---- struct_0.cif positions ----\n",
      "\n",
      "[[ 0.1969474  0.0975403  3.4500618]\n",
      " [ 2.058865   1.8844987  0.173397 ]\n",
      " [ 0.1978449  1.720687   1.7391396]\n",
      " [ 1.8720055  0.2504743  1.5081949]] \n",
      "\n",
      "\n",
      "---- all struct_*.cif positions----\n",
      "\n",
      "[[[  1.96947400e-01   9.75403000e-02   3.45006180e+00]\n",
      "  [  2.05886500e+00   1.88449870e+00   1.73397000e-01]\n",
      "  [  1.97844900e-01   1.72068700e+00   1.73913960e+00]\n",
      "  [  1.87200550e+00   2.50474300e-01   1.50819490e+00]]\n",
      "\n",
      " [[  4.10696000e-02   3.36813800e+00   1.53903300e-01]\n",
      "  [  1.76398240e+00   1.59417540e+00   1.87182600e-01]\n",
      "  [  3.33927440e+00   1.99011650e+00   2.00580480e+00]\n",
      "  [  2.06144980e+00   2.58767200e-01   2.05746490e+00]]\n",
      "\n",
      " [[  4.10640000e-02   2.78347800e+00   2.73731000e+00]\n",
      "  [  1.19074000e+00   1.23203600e+00   1.30520300e+00]\n",
      "  [  2.74090600e+00   2.67293000e+00   2.70010300e+00]\n",
      "  [  4.62225200e+00   1.41891200e+00   1.21634700e+00]]\n",
      "\n",
      " [[  8.49753000e-02   3.31005180e+00   1.55770100e-01]\n",
      "  [  1.94344650e+00   1.73992940e+00   6.60919000e-02]\n",
      "  [  1.45789900e-01   1.89961260e+00   1.52320110e+00]\n",
      "  [  1.57766140e+00   3.34914690e+00   1.88309860e+00]]\n",
      "\n",
      " [[  2.38322000e-01   2.21908000e-01   2.64166800e+00]\n",
      "  [  1.70902800e+00   1.30073700e+00   1.61614100e+00]\n",
      "  [  2.93700400e+00   2.89823100e+00   2.68772000e-01]\n",
      "  [  4.54615600e+00   1.73480900e+00   1.68701700e+00]]\n",
      "\n",
      " [[  3.44571790e+00   7.07948000e-02   3.44237920e+00]\n",
      "  [  1.50130210e+00   1.74287320e+00   3.31260070e+00]\n",
      "  [  2.67814000e-02   1.52564230e+00   2.07336860e+00]\n",
      "  [  1.95134450e+00   3.54656100e+00   1.81172940e+00]]\n",
      "\n",
      " [[  2.46633000e-01   3.37294860e+00   1.54082800e-01]\n",
      "  [  1.54466930e+00   1.61269980e+00   2.62500800e-01]\n",
      "  [  2.32165300e-01   1.61043810e+00   1.77647560e+00]\n",
      "  [  2.04080730e+00   1.26619300e-01   1.53716620e+00]]\n",
      "\n",
      " [[  3.42909620e+00   3.52853920e+00   3.56605470e+00]\n",
      "  [  1.92815310e+00   1.55551110e+00   5.11216000e-02]\n",
      "  [  3.38551360e+00   1.72625150e+00   1.69645450e+00]\n",
      "  [  1.88317040e+00   2.53130900e-01   1.92915830e+00]]\n",
      "\n",
      " [[  1.84382400e-01   3.46463720e+00   3.36702510e+00]\n",
      "  [  1.87814440e+00   1.97913110e+00   3.31791390e+00]\n",
      "  [  8.97500000e-04   1.99166020e+00   1.58954430e+00]\n",
      "  [  1.85229640e+00   3.48976720e+00   2.02594470e+00]]\n",
      "\n",
      " [[  3.36576860e+00   3.53485760e+00   3.41132570e+00]\n",
      "  [  1.82680740e+00   2.04540250e+00   8.30726000e-02]\n",
      "  [  3.58716390e+00   1.60702760e+00   1.78326070e+00]\n",
      "  [  2.07695860e+00   2.31806300e-01   1.90492580e+00]]] \n",
      "\n",
      "\n",
      "---- all struct_*.cif info dictionaries----\n",
      "\n",
      "[ {'spacegroup': Spacegroup(1, setting=1), 'unit_cell': 'conventional', u'name': 'struct_1'}\n",
      " {'spacegroup': Spacegroup(1, setting=1), 'unit_cell': 'conventional', u'name': 'struct_2'}\n",
      " {'spacegroup': Spacegroup(1, setting=1), 'unit_cell': 'conventional', u'name': 'struct_3'}\n",
      " {'spacegroup': Spacegroup(1, setting=1), 'unit_cell': 'conventional', u'name': 'struct_4'}\n",
      " {'spacegroup': Spacegroup(1, setting=1), 'unit_cell': 'conventional', u'name': 'struct_5'}\n",
      " {'spacegroup': Spacegroup(1, setting=1), 'unit_cell': 'conventional', u'name': 'struct_6'}\n",
      " {'spacegroup': Spacegroup(1, setting=1), 'unit_cell': 'conventional', u'name': 'struct_7'}\n",
      " {'spacegroup': Spacegroup(1, setting=1), 'unit_cell': 'conventional', u'name': 'struct_8'}\n",
      " {'spacegroup': Spacegroup(1, setting=1), 'unit_cell': 'conventional', u'name': 'struct_9'}\n",
      " {'spacegroup': Spacegroup(1, setting=1), 'unit_cell': 'conventional', u'name': 'struct_10'}] \n",
      "\n",
      "\n"
     ]
    }
   ],
   "source": [
    "# To access an individual structure, one can simply use indexing:\n",
    "a0 = aColl.structures[0]\n",
    "print '---- struct_0.cif positions ----\\n'\n",
    "print a0.get_positions(), '\\n\\n'\n",
    "\n",
    "# All properties and methods of Atoms objects are available on an entire collection too, by using\n",
    "# the meta-element 'all'\n",
    "\n",
    "print '---- all struct_*.cif positions----\\n'\n",
    "print aColl.all.get_positions(), '\\n\\n'\n",
    "\n",
    "print '---- all struct_*.cif info dictionaries----\\n'\n",
    "print aColl.all.info, '\\n\\n'"
   ]
  },
  {
   "cell_type": "code",
   "execution_count": 106,
   "metadata": {
    "collapsed": false
   },
   "outputs": [
    {
     "name": "stdout",
     "output_type": "stream",
     "text": [
      "---- Collection slice lengths ---- \n",
      "\n",
      "aColl02 = 2\taColl25 = 3\taColl05 = 5\n",
      "\n",
      "\n"
     ]
    }
   ],
   "source": [
    "# Collections can also be sliced like Numpy arrays for convenience\n",
    "aColl02 = aColl[0:2]\n",
    "aColl25 = aColl[2:5]\n",
    "\n",
    "# Then join them together\n",
    "aColl05 = aColl02+aColl25\n",
    "\n",
    "print \"---- Collection slice lengths ---- \\n\"\n",
    "print \"aColl02 = {0}\\taColl25 = {1}\\taColl05 = {2}\\n\\n\".format(aColl02.length, aColl25.length, aColl05.length)"
   ]
  },
  {
   "cell_type": "code",
   "execution_count": 107,
   "metadata": {
    "collapsed": false
   },
   "outputs": [
    {
     "name": "stdout",
     "output_type": "stream",
     "text": [
      "---- Getting an array from a collection ---- \n",
      "\n",
      "Unsorted:  [10  9  8  7  6  5  4  3  2  1] \n",
      "\n",
      "Sorted:  [ 1  2  3  4  5  6  7  8  9 10] \n",
      "\n",
      "\n",
      "---- First vs. last elements ---- \n",
      "\n",
      "[[ 0.1969474  0.0975403  3.4500618]\n",
      " [ 2.058865   1.8844987  0.173397 ]\n",
      " [ 0.1978449  1.720687   1.7391396]\n",
      " [ 1.8720055  0.2504743  1.5081949]] \n",
      "\n",
      "[[ 0.1969474  0.0975403  3.4500618]\n",
      " [ 2.058865   1.8844987  0.173397 ]\n",
      " [ 0.1978449  1.720687   1.7391396]\n",
      " [ 1.8720055  0.2504743  1.5081949]]\n"
     ]
    }
   ],
   "source": [
    "# Collections can also store \"arrays\" of data, similarly to Atoms objects in ase\n",
    "# These arrays' elements are tied each to one structure, and can be used to sort them\n",
    "\n",
    "arr = range(10, 0, -1) # Let's use this array to reverse the order of a collection\n",
    "\n",
    "aColl.set_array('reversed_range', arr)\n",
    "\n",
    "aCollSorted = aColl.sorted_byarray('reversed_range')\n",
    "\n",
    "print \"---- Getting an array from a collection ---- \\n\"\n",
    "print \"Unsorted: \", aColl.get_array('reversed_range'), \"\\n\"\n",
    "print \"Sorted: \", aCollSorted.get_array('reversed_range'), \"\\n\\n\"\n",
    "\n",
    "# And to make sure\n",
    "print \"---- First vs. last elements ---- \\n\"\n",
    "print aColl.structures[0].get_positions(), \"\\n\"\n",
    "print aCollSorted.structures[-1].get_positions()"
   ]
  },
  {
   "cell_type": "code",
   "execution_count": null,
   "metadata": {
    "collapsed": true
   },
   "outputs": [],
   "source": []
  }
 ],
 "metadata": {
  "kernelspec": {
   "display_name": "Python 2",
   "language": "python",
   "name": "python2"
  },
  "language_info": {
   "codemirror_mode": {
    "name": "ipython",
    "version": 2
   },
   "file_extension": ".py",
   "mimetype": "text/x-python",
   "name": "python",
   "nbconvert_exporter": "python",
   "pygments_lexer": "ipython2",
   "version": "2.7.11"
  }
 },
 "nbformat": 4,
 "nbformat_minor": 0
}
