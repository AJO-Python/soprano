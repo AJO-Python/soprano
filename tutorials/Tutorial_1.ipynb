{
 "cells": [
  {
   "cell_type": "code",
   "execution_count": 1,
   "metadata": {
    "collapsed": false
   },
   "outputs": [
    {
     "name": "stdout",
     "output_type": "stream",
     "text": [
      "\n"
     ]
    }
   ],
   "source": [
    "\"\"\"\n",
    "SOPRANO: a Python library for generation, manipulation and analysis of large batches of crystalline structures\n",
    "by Simone Sturniolo\n",
    "      _\n",
    "    /|_|\\ \n",
    "   / / \\ \\\n",
    "  /_/   \\_\\\n",
    "  \\ \\   / /\n",
    "   \\ \\_/ /\n",
    "    \\|_|/\n",
    "    \n",
    "Developed within the CCP-NC project. Copyright STFC 2016\n",
    "\n",
    "\n",
    "TUTORIAL 1 - Basic concepts: using AtomsCollection objects\n",
    "\n",
    "\"\"\"\n",
    "\n",
    "print"
   ]
  },
  {
   "cell_type": "code",
   "execution_count": 2,
   "metadata": {
    "collapsed": true
   },
   "outputs": [],
   "source": [
    "# Basic imports\n",
    "import os, sys\n",
    "sys.path.insert(0, os.path.abspath('..')) # This to add the Soprano path to the PYTHONPATH\n",
    "                                          # so we can load it without installing it"
   ]
  },
  {
   "cell_type": "code",
   "execution_count": 3,
   "metadata": {
    "collapsed": false
   },
   "outputs": [],
   "source": [
    "# Other useful imports\n",
    "\n",
    "import glob\n",
    "\n",
    "import numpy as np\n",
    "\n",
    "import ase\n",
    "from ase import io as ase_io\n",
    "\n",
    "from soprano.collection import AtomsCollection"
   ]
  },
  {
   "cell_type": "code",
   "execution_count": 18,
   "metadata": {
    "collapsed": true
   },
   "outputs": [],
   "source": [
    "# TO BE REMOVED AFTER COMPLETION\n",
    "\n",
    "bccfe = ase.Atoms('FeFeFeFe',\n",
    "                  scaled_positions=[[0, 0, 0], [0.25, 0.5, 0.5], [0.5, 0, 0], [0.75, 0.5, 0.5]],\n",
    "                  cell=[2.9*2, 2.9, 2.9])\n",
    "fccfe = ase.Atoms('FeFeFeFe',\n",
    "                  scaled_positions=[[0, 0, 0], [0.5, 0.5, 0.0], [0.0, 0.5, 0.5], [0.5, 0.0, 0.5]],\n",
    "                  cell=[3.59]*3)\n",
    "\n",
    "from soprano.collection.generate import rattleGen\n",
    "\n",
    "rgbcc = rattleGen(bccfe, amplitude=0.1)\n",
    "rgfcc = rattleGen(fccfe, amplitude=0.1)\n",
    "\n",
    "for i in range(10):\n",
    "    rgrnd = np.random.choice([rgbcc, rgfcc])\n",
    "    s = next(rgrnd)\n",
    "    s.set_cell(s.get_cell() + np.random.random((3,3))*0.05-0.025)\n",
    "    ase_io.write('tutorial_data/struct_{0}.cif'.format(i+1), s)"
   ]
  },
  {
   "cell_type": "code",
   "execution_count": 4,
   "metadata": {
    "collapsed": false
   },
   "outputs": [
    {
     "name": "stdout",
     "output_type": "stream",
     "text": [
      "Loading collection...\n",
      "Loading: [████████████████████] |\n",
      "Loaded 10 structures\n"
     ]
    }
   ],
   "source": [
    "\"\"\"\n",
    "1 - LOADING STRUCTURES\n",
    "\n",
    "Soprano can handle multiple structure loading into a single AtomsCollection object.\n",
    "The structures are loaded singularly as ASE (Atomic Simulation Environment) Atoms objects.\n",
    "\"\"\"\n",
    "\n",
    "# List all files in the tutorial directory\n",
    "cifs = glob.glob('tutorial_data/struct*.cif')\n",
    "\n",
    "aColl = AtomsCollection(cifs, progress=True) # \"progress\" means we will visualize a loading bar"
   ]
  },
  {
   "cell_type": "code",
   "execution_count": 20,
   "metadata": {
    "collapsed": false,
    "scrolled": true
   },
   "outputs": [
    {
     "name": "stdout",
     "output_type": "stream",
     "text": [
      "Help on class AtomsCollection in module soprano.collection.collection:\n",
      "\n",
      "class AtomsCollection(__builtin__.object)\n",
      " |  AtomsCollection object.\n",
      " |  \n",
      " |  An AtomsCollection represents a group of ASE Atoms objects.\n",
      " |  It handles them together, can perform mass operations on them, and stores\n",
      " |  arrays of informations related to them.\n",
      " |  \n",
      " |  Methods defined here:\n",
      " |  \n",
      " |  __add__(self, other)\n",
      " |      Addition of two collections brings a merging\n",
      " |  \n",
      " |  __deepcopy__(self, memodict={})\n",
      " |      Protects against problems with infinite recursion in AllCaller\n",
      " |  \n",
      " |  __getitem__(self, indices)\n",
      " |      Allow sophisticated slicing\n",
      " |  \n",
      " |  __iadd__(self, other)\n",
      " |  \n",
      " |  __init__(self, structures=[], info={}, cell_reduce=False, progress=False)\n",
      " |      Initialize the AtomsCollection\n",
      " |      \n",
      " |      | Args:\n",
      " |      |    structures (list[str] or list[ase.Atoms]): list of file names or\n",
      " |      |                                               Atoms that will form\n",
      " |      |                                               the collection\n",
      " |      |    info (dict): dictionary of general information to attach\n",
      " |      |                 to this collection\n",
      " |      |    cell_reduce (bool): if True, perform a Niggli cell reduction on\n",
      " |      |                        all loaded structures\n",
      " |      |    progress (bool): visualize a progress bar for the loading process\n",
      " |  \n",
      " |  chunkify(self, chunk_size=None, chunk_n=None)\n",
      " |      Split this collection into multiple collections based on either\n",
      " |      size or number of chunks.\n",
      " |      \n",
      " |      | Args:\n",
      " |      |   chunk_size (Optional[int]): maximum size of a generated chunk\n",
      " |      |   chunk_n (Optional[int]): number of chunks to generate\n",
      " |      \n",
      " |      | Returns:\n",
      " |      |   chunks (list[AtomsCollection]): a list of the generated chunks\n",
      " |  \n",
      " |  get_array(self, name, copy=True)\n",
      " |      Get a copy of an array of given name (or a reference if copy=False)\n",
      " |      \n",
      " |      | Args:\n",
      " |      |   name (str): name of the array to retrieve.\n",
      " |      |   copy (bool): if the array should be copied or a reference should\n",
      " |      |                be returned instead.\n",
      " |      \n",
      " |      | Returns:\n",
      " |      |   array (np.ndarray): the requested array\n",
      " |  \n",
      " |  has(self, name)\n",
      " |      Check if array of given name exists\n",
      " |  \n",
      " |  run_calculators(self, properties=None, system_changes=None)\n",
      " |      Run all previously set ASE calculators.\n",
      " |      \n",
      " |      | Args:\n",
      " |      |   properties (list[str]): list of properties to calculate (depends\n",
      " |      |                           on type of Calculator used)\n",
      " |      |   system_changes (list[str]): list of changes to the structure\n",
      " |      |                               since the last calculation. Can be\n",
      " |      |                               any combination of these five:\n",
      " |      |                               'positions', 'numbers', 'cell',\n",
      " |      |                               'pbc', 'initial_charges' and\n",
      " |      |                               'initial_magmoms'.\n",
      " |  \n",
      " |  save(self, filename)\n",
      " |      Simply save a pickled copy to a given file path\n",
      " |  \n",
      " |  set_array(self, name, a, dtype=None, shape=None, args={})\n",
      " |      Add or modify an array of data related to the Atoms objects\n",
      " |      in this collection.\n",
      " |      \n",
      " |      | Args:\n",
      " |      |   name (str): name of the array to operate on.\n",
      " |      |   a (np.ndarray or function<Atoms, **kwargs>\n",
      " |      |                    => Any): the data to assign to the array (must\n",
      " |      |                             be same length as the collection) or\n",
      " |      |                             a function that takes an Atoms object\n",
      " |      |                             as the first argument and returns a\n",
      " |      |                             value. This will be mapped over the\n",
      " |      |                             structures to create the array.\n",
      " |      |   dtype (type): type to cast the values of the array to.\n",
      " |      |   shape (tuple [int]): shape of each entry of the array. Will be\n",
      " |      |                        checked if provided.\n",
      " |      |   args (dict): named arguments to pass to the function provided\n",
      " |      |                as a. Will be ignored if an array is passed instead.\n",
      " |  \n",
      " |  set_calculators(self, calctype, labels=None, params={})\n",
      " |      Set an ASE calculator on each structure in the collection,\n",
      " |      and set said calculator's parameters.\n",
      " |      \n",
      " |      | Args:\n",
      " |      |   calctype (ASE Calculator type): the type of calculator\n",
      " |      |                                   to instantiate.\n",
      " |      |   labels (Optional[list[str]]): names to use for the calculators'\n",
      " |      |                                 files. If not present, random\n",
      " |      |                                 generated names are used.\n",
      " |      |   params (Optional[dict]): parameters of the calculator to set.\n",
      " |  \n",
      " |  sorted_byarray(self, name, reverse=False)\n",
      " |      Return a copy of this collection sorted by a given array.\n",
      " |      \n",
      " |      | Args:\n",
      " |      |   name (str): name of the array to use for the sorting\n",
      " |      |   reverse (Optional[bool]): reverse order of sorting (max to min)\n",
      " |      \n",
      " |      | Returns:\n",
      " |      |   sorted (AtomsCollection): a sorted copy of the collection\n",
      " |  \n",
      " |  ----------------------------------------------------------------------\n",
      " |  Static methods defined here:\n",
      " |  \n",
      " |  load(filename)\n",
      " |      Load a pickled copy from a given file path\n",
      " |  \n",
      " |  ----------------------------------------------------------------------\n",
      " |  Data descriptors defined here:\n",
      " |  \n",
      " |  __dict__\n",
      " |      dictionary for instance variables (if defined)\n",
      " |  \n",
      " |  __weakref__\n",
      " |      list of weak references to the object (if defined)\n",
      " |  \n",
      " |  all\n",
      " |  \n",
      " |  length\n",
      "\n"
     ]
    }
   ],
   "source": [
    "\"\"\"\n",
    "2 - HANDLING COLLECTIONS\n",
    "\n",
    "Collections are a convenient way of manipulating multiple structures. They allow for many operations that act\n",
    "collectively on all Atoms objects, or return values from them all at once.\n",
    "\"\"\"\n",
    "\n",
    "help(AtomsCollection)"
   ]
  },
  {
   "cell_type": "code",
   "execution_count": 14,
   "metadata": {
    "collapsed": false,
    "scrolled": true
   },
   "outputs": [
    {
     "name": "stdout",
     "output_type": "stream",
     "text": [
      "---- struct_0.cif positions ----\n",
      "\n",
      "[[ 0.75793256  0.94751667  0.80647053]\n",
      " [ 0.88479699  0.62396811  0.25522664]\n",
      " [ 0.09024306  0.59255159  0.03223542]\n",
      " [ 0.21161056  0.22623914  0.72407407]] \n",
      "\n",
      "\n",
      "---- all struct_*.cif positions----\n",
      "\n",
      "[[[ 0.75793256  0.94751667  0.80647053]\n",
      "  [ 0.88479699  0.62396811  0.25522664]\n",
      "  [ 0.09024306  0.59255159  0.03223542]\n",
      "  [ 0.21161056  0.22623914  0.72407407]]\n",
      "\n",
      " [[ 0.21114542  0.03425193  0.05982127]\n",
      "  [ 0.5949015   0.29792799  0.36162355]\n",
      "  [ 0.87110592  0.13072396  0.91271482]\n",
      "  [ 0.18231481  0.29436869  0.65224727]]\n",
      "\n",
      " [[ 0.84595149  0.99287711  0.12329696]\n",
      "  [ 0.5330563   0.57774029  0.85515617]\n",
      "  [ 0.9723266   0.0480301   0.15559423]\n",
      "  [ 0.4294857   0.30131269  0.43110142]]\n",
      "\n",
      " [[ 0.08424182  0.95374184  0.71514129]\n",
      "  [ 0.78576494  0.14243732  0.15553295]\n",
      "  [ 0.17392238  0.9953966   0.00205546]\n",
      "  [ 0.04971194  0.30711054  0.63513654]]\n",
      "\n",
      " [[ 0.22447854  0.94778182  0.12495251]\n",
      "  [ 0.45918449  0.33588428  0.78395216]\n",
      "  [ 0.10894467  0.87567337  0.28785928]\n",
      "  [ 0.40340508  0.14302024  0.66378769]]\n",
      "\n",
      " [[ 0.68218137  0.74011612  0.95546334]\n",
      "  [ 0.75667085  0.73565579  0.9669385 ]\n",
      "  [ 0.74570509  0.66362009  0.90770294]\n",
      "  [ 0.7786117   0.11484666  0.67108769]]\n",
      "\n",
      " [[ 0.21109504  0.95583989  0.79886426]\n",
      "  [ 0.48340406  0.59321115  0.71023164]\n",
      "  [ 0.37117605  0.98091369  0.12182232]\n",
      "  [ 0.85148969  0.75462439  0.76932672]]\n",
      "\n",
      " [[ 0.13522733  0.06625207  0.69404183]\n",
      "  [ 0.25192974  0.35603185  0.52362329]\n",
      "  [ 0.17067907  0.94159673  0.11627745]\n",
      "  [ 0.17208147  0.23694538  0.62146932]]\n",
      "\n",
      " [[ 0.79761038  0.70037278  0.88563019]\n",
      "  [ 0.42386382  0.56426112  0.64502765]\n",
      "  [ 0.01099772  0.05255129  0.13664364]\n",
      "  [ 0.62701306  0.49128622  0.5485201 ]]\n",
      "\n",
      " [[ 0.80521063  0.72596375  0.10493497]\n",
      "  [ 0.8065185   0.6718086   0.09654828]\n",
      "  [ 0.09685546  0.68584066  0.54139762]\n",
      "  [ 0.32128344  0.89352116  0.50327259]]] \n",
      "\n",
      "\n",
      "---- all struct_*.cif info dictionaries----\n",
      "\n",
      "[ {'spacegroup': Spacegroup(1, setting=1), 'unit_cell': 'conventional', u'name': 'struct_2'}\n",
      " {'spacegroup': Spacegroup(1, setting=1), 'unit_cell': 'conventional', u'name': 'struct_8'}\n",
      " {'spacegroup': Spacegroup(1, setting=1), 'unit_cell': 'conventional', u'name': 'struct_7'}\n",
      " {'spacegroup': Spacegroup(1, setting=1), 'unit_cell': 'conventional', u'name': 'struct_4'}\n",
      " {'spacegroup': Spacegroup(1, setting=1), 'unit_cell': 'conventional', u'name': 'struct_5'}\n",
      " {'spacegroup': Spacegroup(1, setting=1), 'unit_cell': 'conventional', u'name': 'struct_10'}\n",
      " {'spacegroup': Spacegroup(1, setting=1), 'unit_cell': 'conventional', u'name': 'struct_1'}\n",
      " {'spacegroup': Spacegroup(1, setting=1), 'unit_cell': 'conventional', u'name': 'struct_3'}\n",
      " {'spacegroup': Spacegroup(1, setting=1), 'unit_cell': 'conventional', u'name': 'struct_6'}\n",
      " {'spacegroup': Spacegroup(1, setting=1), 'unit_cell': 'conventional', u'name': 'struct_9'}] \n",
      "\n",
      "\n"
     ]
    }
   ],
   "source": [
    "# To access an individual structure, one can simply use indexing:\n",
    "a0 = aColl.structures[0]\n",
    "print '---- struct_0.cif positions ----\\n'\n",
    "print a0.get_positions(), '\\n\\n'\n",
    "\n",
    "# All properties and methods of Atoms objects are available on an entire collection too, by using\n",
    "# the meta-element 'all'\n",
    "\n",
    "print '---- all struct_*.cif positions----\\n'\n",
    "print aColl.all.get_positions(), '\\n\\n'\n",
    "\n",
    "print '---- all struct_*.cif info dictionaries----\\n'\n",
    "print aColl.all.info, '\\n\\n'"
   ]
  },
  {
   "cell_type": "code",
   "execution_count": 15,
   "metadata": {
    "collapsed": false
   },
   "outputs": [
    {
     "name": "stdout",
     "output_type": "stream",
     "text": [
      "---- Collection slice lengths ---- \n",
      "\n",
      "aColl02 = 2\taColl25 = 3\taColl05 = 5\n",
      "\n",
      "\n"
     ]
    }
   ],
   "source": [
    "# Collections can also be sliced like Numpy arrays for convenience\n",
    "aColl02 = aColl[0:2]\n",
    "aColl25 = aColl[2:5]\n",
    "\n",
    "# Then join them together\n",
    "aColl05 = aColl02+aColl25\n",
    "\n",
    "print \"---- Collection slice lengths ---- \\n\"\n",
    "print \"aColl02 = {0}\\taColl25 = {1}\\taColl05 = {2}\\n\\n\".format(aColl02.length, aColl25.length, aColl05.length)"
   ]
  },
  {
   "cell_type": "code",
   "execution_count": 16,
   "metadata": {
    "collapsed": false
   },
   "outputs": [
    {
     "name": "stdout",
     "output_type": "stream",
     "text": [
      "---- Getting an array from a collection ---- \n",
      "\n",
      "Unsorted:  [10  9  8  7  6  5  4  3  2  1] \n",
      "\n",
      "Sorted:  [ 1  2  3  4  5  6  7  8  9 10] \n",
      "\n",
      "\n",
      "---- First vs. last elements ---- \n",
      "\n",
      "[[ 0.75793256  0.94751667  0.80647053]\n",
      " [ 0.88479699  0.62396811  0.25522664]\n",
      " [ 0.09024306  0.59255159  0.03223542]\n",
      " [ 0.21161056  0.22623914  0.72407407]] \n",
      "\n",
      "[[ 0.75793256  0.94751667  0.80647053]\n",
      " [ 0.88479699  0.62396811  0.25522664]\n",
      " [ 0.09024306  0.59255159  0.03223542]\n",
      " [ 0.21161056  0.22623914  0.72407407]]\n"
     ]
    }
   ],
   "source": [
    "# Collections can also store \"arrays\" of data, similarly to Atoms objects in ase\n",
    "# These arrays' elements are tied each to one structure, and can be used to sort them\n",
    "\n",
    "arr = range(10, 0, -1) # Let's use this array to reverse the order of a collection\n",
    "\n",
    "aColl.set_array('reversed_range', arr)\n",
    "\n",
    "aCollSorted = aColl.sorted_byarray('reversed_range')\n",
    "\n",
    "print \"---- Getting an array from a collection ---- \\n\"\n",
    "print \"Unsorted: \", aColl.get_array('reversed_range'), \"\\n\"\n",
    "print \"Sorted: \", aCollSorted.get_array('reversed_range'), \"\\n\\n\"\n",
    "\n",
    "# And to make sure\n",
    "print \"---- First vs. last elements ---- \\n\"\n",
    "print aColl.structures[0].get_positions(), \"\\n\"\n",
    "print aCollSorted.structures[-1].get_positions()"
   ]
  },
  {
   "cell_type": "code",
   "execution_count": null,
   "metadata": {
    "collapsed": true
   },
   "outputs": [],
   "source": []
  }
 ],
 "metadata": {
  "kernelspec": {
   "display_name": "Python 2",
   "language": "python",
   "name": "python2"
  },
  "language_info": {
   "codemirror_mode": {
    "name": "ipython",
    "version": 2
   },
   "file_extension": ".py",
   "mimetype": "text/x-python",
   "name": "python",
   "nbconvert_exporter": "python",
   "pygments_lexer": "ipython2",
   "version": "2.7.10"
  }
 },
 "nbformat": 4,
 "nbformat_minor": 0
}
