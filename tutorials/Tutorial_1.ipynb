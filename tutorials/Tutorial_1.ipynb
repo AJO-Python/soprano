{
 "cells": [
  {
   "cell_type": "code",
   "execution_count": 1,
   "metadata": {
    "collapsed": false
   },
   "outputs": [
    {
     "name": "stdout",
     "output_type": "stream",
     "text": [
      "\n"
     ]
    }
   ],
   "source": [
    "\"\"\"\n",
    "SOPRANO: a Python library for generation, manipulation and analysis of large batches of crystalline structures\n",
    "by Simone Sturniolo\n",
    "      _\n",
    "    /|_|\\ \n",
    "   / / \\ \\\n",
    "  /_/   \\_\\\n",
    "  \\ \\   / /\n",
    "   \\ \\_/ /\n",
    "    \\|_|/\n",
    "    \n",
    "Developed within the CCP-NC project. Copyright STFC 2016\n",
    "\n",
    "\n",
    "TUTORIAL 1 - Basic concepts: using AtomsCollection objects\n",
    "\n",
    "\"\"\"\n",
    "\n",
    "print"
   ]
  },
  {
   "cell_type": "code",
   "execution_count": 2,
   "metadata": {
    "collapsed": true
   },
   "outputs": [],
   "source": [
    "# Basic imports\n",
    "import os, sys\n",
    "sys.path.insert(0, os.path.abspath('..')) # This to add the Soprano path to the PYTHONPATH\n",
    "                                          # so we can load it without installing it"
   ]
  },
  {
   "cell_type": "code",
   "execution_count": 3,
   "metadata": {
    "collapsed": false
   },
   "outputs": [],
   "source": [
    "# Other useful imports\n",
    "\n",
    "import glob\n",
    "\n",
    "import numpy as np\n",
    "\n",
    "import ase\n",
    "from ase import io as ase_io\n",
    "\n",
    "from soprano.collection import AtomsCollection"
   ]
  },
  {
   "cell_type": "code",
   "execution_count": 18,
   "metadata": {
    "collapsed": true
   },
   "outputs": [],
   "source": [
    "# TO BE REMOVED AFTER COMPLETION\n",
    "\n",
    "bccfe = ase.Atoms('FeFeFeFe',\n",
    "                  scaled_positions=[[0, 0, 0], [0.25, 0.5, 0.5], [0.5, 0, 0], [0.75, 0.5, 0.5]],\n",
    "                  cell=[2.9*2, 2.9, 2.9])\n",
    "fccfe = ase.Atoms('FeFeFeFe',\n",
    "                  scaled_positions=[[0, 0, 0], [0.5, 0.5, 0.0], [0.0, 0.5, 0.5], [0.5, 0.0, 0.5]],\n",
    "                  cell=[3.59]*3)\n",
    "\n",
    "from soprano.collection.generate import rattleGen\n",
    "\n",
    "rgbcc = rattleGen(bccfe, amplitude=0.1)\n",
    "rgfcc = rattleGen(fccfe, amplitude=0.1)\n",
    "\n",
    "for i in range(10):\n",
    "    rgrnd = np.random.choice([rgbcc, rgfcc])\n",
    "    s = next(rgrnd)\n",
    "    s.set_cell(s.get_cell() + np.random.random((3,3))*0.05-0.025)\n",
    "    ase_io.write('tutorial_data/struct_{0}.cif'.format(i+1), s)"
   ]
  },
  {
   "cell_type": "code",
   "execution_count": 4,
   "metadata": {
    "collapsed": false
   },
   "outputs": [
    {
     "name": "stdout",
     "output_type": "stream",
     "text": [
      "Loading collection...\n",
      "Loading: [████████████████████] |\n",
      "Loaded 10 structures\n"
     ]
    }
   ],
   "source": [
    "\"\"\"\n",
    "1 - LOADING STRUCTURES\n",
    "\n",
    "Soprano can handle multiple structure loading into a single AtomsCollection object.\n",
    "The structures are loaded singularly as ASE (Atomic Simulation Environment) Atoms objects.\n",
    "\"\"\"\n",
    "\n",
    "# List all files in the tutorial directory\n",
    "cifs = glob.glob('tutorial_data/struct*.cif')\n",
    "\n",
    "aColl = AtomsCollection(cifs, progress=True) # \"progress\" means we will visualize a loading bar"
   ]
  },
  {
   "cell_type": "code",
   "execution_count": 6,
   "metadata": {
    "collapsed": false,
    "scrolled": true
   },
   "outputs": [
    {
     "name": "stdout",
     "output_type": "stream",
     "text": [
      "Help on class AtomsCollection in module soprano.collection.collection:\n",
      "\n",
      "class AtomsCollection(__builtin__.object)\n",
      " |  AtomsCollection object.\n",
      " |  \n",
      " |  An AtomsCollection represents a group of ASE Atoms objects.\n",
      " |  It handles them together, can perform mass operations on them, and stores\n",
      " |  arrays of informations related to them.\n",
      " |  \n",
      " |  Methods defined here:\n",
      " |  \n",
      " |  __add__(self, other)\n",
      " |      Addition of two collections brings a merging\n",
      " |  \n",
      " |  __deepcopy__(self, memodict={})\n",
      " |      Protects against problems with infinite recursion in AllCaller\n",
      " |  \n",
      " |  __getitem__(self, indices)\n",
      " |      Allow sophisticated slicing\n",
      " |  \n",
      " |  __iadd__(self, other)\n",
      " |  \n",
      " |  __init__(self, structures=[], info={}, cell_reduce=False, progress=False)\n",
      " |      Initialize the AtomsCollection\n",
      " |      \n",
      " |      | Args:\n",
      " |      |    structures (list[str] or list[ase.Atoms]): list of file names or\n",
      " |      |                                               Atoms that will form\n",
      " |      |                                               the collection\n",
      " |      |    info (dict): dictionary of general information to attach\n",
      " |      |                 to this collection\n",
      " |      |    cell_reduce (bool): if True, perform a Niggli cell reduction on\n",
      " |      |                        all loaded structures\n",
      " |      |    progress (bool): visualize a progress bar for the loading process\n",
      " |  \n",
      " |  chunkify(self, chunk_size=None, chunk_n=None)\n",
      " |      Split this collection into multiple collections based on either\n",
      " |      size or number of chunks.\n",
      " |      \n",
      " |      | Args:\n",
      " |      |   chunk_size (Optional[int]): maximum size of a generated chunk\n",
      " |      |   chunk_n (Optional[int]): number of chunks to generate\n",
      " |      \n",
      " |      | Returns:\n",
      " |      |   chunks (list[AtomsCollection]): a list of the generated chunks\n",
      " |  \n",
      " |  filter(self, filter_func)\n",
      " |      Return a collection composed only of the elements for which a given\n",
      " |      filter function returns True.\n",
      " |      \n",
      " |      | Args:\n",
      " |      |   filter_func (function<Atoms>\n",
      " |      |                       => bool): filter function. Should take an\n",
      " |      |                                 Atoms object and return a boolean\n",
      " |      \n",
      " |      | Returns:\n",
      " |      |   filtered (AtomsCollection): the filtered version of the collection\n",
      " |  \n",
      " |  get_array(self, name, copy=True)\n",
      " |      Get a copy of an array of given name (or a reference if copy=False)\n",
      " |      \n",
      " |      | Args:\n",
      " |      |   name (str): name of the array to retrieve.\n",
      " |      |   copy (bool): if the array should be copied or a reference should\n",
      " |      |                be returned instead.\n",
      " |      \n",
      " |      | Returns:\n",
      " |      |   array (np.ndarray): the requested array\n",
      " |  \n",
      " |  has(self, name)\n",
      " |      Check if array of given name exists\n",
      " |  \n",
      " |  run_calculators(self, properties=None, system_changes=None)\n",
      " |      Run all previously set ASE calculators.\n",
      " |      \n",
      " |      | Args:\n",
      " |      |   properties (list[str]): list of properties to calculate (depends\n",
      " |      |                           on type of Calculator used)\n",
      " |      |   system_changes (list[str]): list of changes to the structure\n",
      " |      |                               since the last calculation. Can be\n",
      " |      |                               any combination of these five:\n",
      " |      |                               'positions', 'numbers', 'cell',\n",
      " |      |                               'pbc', 'initial_charges' and\n",
      " |      |                               'initial_magmoms'.\n",
      " |  \n",
      " |  save(self, filename)\n",
      " |      Simply save a pickled copy to a given file path\n",
      " |  \n",
      " |  set_array(self, name, a, dtype=None, shape=None, args={})\n",
      " |      Add or modify an array of data related to the Atoms objects\n",
      " |      in this collection.\n",
      " |      \n",
      " |      | Args:\n",
      " |      |   name (str): name of the array to operate on.\n",
      " |      |   a (np.ndarray or function<Atoms, **kwargs>\n",
      " |      |                    => Any): the data to assign to the array (must\n",
      " |      |                             be same length as the collection) or\n",
      " |      |                             a function that takes an Atoms object\n",
      " |      |                             as the first argument and returns a\n",
      " |      |                             value. This will be mapped over the\n",
      " |      |                             structures to create the array.\n",
      " |      |   dtype (type): type to cast the values of the array to.\n",
      " |      |   shape (tuple [int]): shape of each entry of the array. Will be\n",
      " |      |                        checked if provided.\n",
      " |      |   args (dict): named arguments to pass to the function provided\n",
      " |      |                as a. Will be ignored if an array is passed instead.\n",
      " |  \n",
      " |  set_calculators(self, calctype, labels=None, params={})\n",
      " |      Set an ASE calculator on each structure in the collection,\n",
      " |      and set said calculator's parameters.\n",
      " |      \n",
      " |      | Args:\n",
      " |      |   calctype (ASE Calculator type): the type of calculator\n",
      " |      |                                   to instantiate.\n",
      " |      |   labels (Optional[list[str]]): names to use for the calculators'\n",
      " |      |                                 files. If not present, random\n",
      " |      |                                 generated names are used.\n",
      " |      |   params (Optional[dict]): parameters of the calculator to set.\n",
      " |  \n",
      " |  sorted_byarray(self, name, reverse=False)\n",
      " |      Return a copy of this collection sorted by a given array.\n",
      " |      \n",
      " |      | Args:\n",
      " |      |   name (str): name of the array to use for the sorting\n",
      " |      |   reverse (Optional[bool]): reverse order of sorting (max to min)\n",
      " |      \n",
      " |      | Returns:\n",
      " |      |   sorted (AtomsCollection): a sorted copy of the collection\n",
      " |  \n",
      " |  ----------------------------------------------------------------------\n",
      " |  Static methods defined here:\n",
      " |  \n",
      " |  load(filename)\n",
      " |      Load a pickled copy from a given file path\n",
      " |  \n",
      " |  ----------------------------------------------------------------------\n",
      " |  Data descriptors defined here:\n",
      " |  \n",
      " |  __dict__\n",
      " |      dictionary for instance variables (if defined)\n",
      " |  \n",
      " |  __weakref__\n",
      " |      list of weak references to the object (if defined)\n",
      " |  \n",
      " |  all\n",
      " |  \n",
      " |  length\n",
      "\n"
     ]
    }
   ],
   "source": [
    "\"\"\"\n",
    "2 - HANDLING COLLECTIONS\n",
    "\n",
    "Collections are a convenient way of manipulating multiple structures. They allow for many operations that act\n",
    "collectively on all Atoms objects, or return values from them all at once.\n",
    "\"\"\"\n",
    "\n",
    "help(AtomsCollection)"
   ]
  },
  {
   "cell_type": "code",
   "execution_count": 7,
   "metadata": {
    "collapsed": false,
    "scrolled": true
   },
   "outputs": [
    {
     "name": "stdout",
     "output_type": "stream",
     "text": [
      "---- struct_0.cif positions ----\n",
      "\n",
      "[[ 5.79569455  2.89409981  0.06507472]\n",
      " [ 1.40122641  1.38759482  1.48040628]\n",
      " [ 2.96041901  2.9237308   2.86494199]\n",
      " [ 4.37069091  1.35628096  1.40592736]] \n",
      "\n",
      "\n",
      "---- all struct_*.cif positions----\n",
      "\n",
      "[[[  5.79569455e+00   2.89409981e+00   6.50747171e-02]\n",
      "  [  1.40122641e+00   1.38759482e+00   1.48040628e+00]\n",
      "  [  2.96041901e+00   2.92373080e+00   2.86494199e+00]\n",
      "  [  4.37069091e+00   1.35628096e+00   1.40592736e+00]]\n",
      "\n",
      " [[  5.89585653e-02   6.58259617e-02   7.96666218e-02]\n",
      "  [  1.72613191e+00   1.81057858e+00   1.19536046e-02]\n",
      "  [  3.50645220e+00   1.84354883e+00   1.80932793e+00]\n",
      "  [  1.81202532e+00   5.91150302e-02   1.69412552e+00]]\n",
      "\n",
      " [[  4.60285008e-04   5.12367189e-02   9.08900430e-02]\n",
      "  [  1.77401329e+00   1.85725741e+00   3.53019651e+00]\n",
      "  [  3.55679575e+00   1.86861735e+00   1.76536705e+00]\n",
      "  [  1.73128434e+00   3.54250246e+00   1.82163573e+00]]\n",
      "\n",
      " [[  3.56910526e+00   5.99952895e-03   3.52821034e+00]\n",
      "  [  1.83266686e+00   1.85504344e+00   3.59265978e+00]\n",
      "  [  3.51933020e+00   1.81900427e+00   1.70614393e+00]\n",
      "  [  1.83770992e+00   5.27131706e-02   1.75249850e+00]]\n",
      "\n",
      " [[  5.79085147e+00   6.01135888e-02   1.51527660e-02]\n",
      "  [  1.47864707e+00   1.52581067e+00   1.54393698e+00]\n",
      "  [  2.81985227e+00   8.05176223e-02   8.22001478e-02]\n",
      "  [  4.39080428e+00   1.52250146e+00   1.42424456e+00]]\n",
      "\n",
      " [[  3.42796466e-02   6.91411917e-02   5.37884717e-03]\n",
      "  [  1.39547491e+00   1.40001475e+00   1.48655720e+00]\n",
      "  [  3.03357630e+00   2.94880358e+00   2.87166818e+00]\n",
      "  [  4.34194710e+00   1.47101907e+00   1.48470641e+00]]\n",
      "\n",
      " [[  3.48288473e+00   4.75675904e-02   8.97808307e-02]\n",
      "  [  1.70569009e+00   1.77260990e+00   3.52281688e+00]\n",
      "  [ -1.08356961e-02   1.84483312e+00   1.71758982e+00]\n",
      "  [  1.67108507e+00   3.54946776e+00   1.85131431e+00]]\n",
      "\n",
      " [[  3.50671463e+00   1.23313009e-01   3.47969537e+00]\n",
      "  [  1.86416396e+00   1.74336553e+00   2.91507769e-02]\n",
      "  [  3.52197558e+00   1.82648779e+00   1.76115704e+00]\n",
      "  [  1.80603566e+00   3.57107775e+00   1.78205558e+00]]\n",
      "\n",
      " [[  5.74883048e+00   7.91573696e-02   8.31980011e-02]\n",
      "  [  1.43302687e+00   1.49128521e+00   1.53879773e+00]\n",
      "  [  2.91035182e+00   5.46785737e-02   2.85012330e+00]\n",
      "  [  4.39840032e+00   1.45361753e+00   1.43423769e+00]]\n",
      "\n",
      " [[  8.24872667e-02   3.55901214e+00   1.10421932e-02]\n",
      "  [  1.72351233e+00   1.88405678e+00   5.28293163e-02]\n",
      "  [  3.51426700e+00   1.81580154e+00   1.75271361e+00]\n",
      "  [  1.73825398e+00   4.84128249e-02   1.79915577e+00]]] \n",
      "\n",
      "\n",
      "---- all struct_*.cif info dictionaries----\n",
      "\n",
      "[ {'spacegroup': Spacegroup(1, setting=1), 'unit_cell': 'conventional', u'name': 'struct_2'}\n",
      " {'spacegroup': Spacegroup(1, setting=1), 'unit_cell': 'conventional', u'name': 'struct_8'}\n",
      " {'spacegroup': Spacegroup(1, setting=1), 'unit_cell': 'conventional', u'name': 'struct_7'}\n",
      " {'spacegroup': Spacegroup(1, setting=1), 'unit_cell': 'conventional', u'name': 'struct_4'}\n",
      " {'spacegroup': Spacegroup(1, setting=1), 'unit_cell': 'conventional', u'name': 'struct_5'}\n",
      " {'spacegroup': Spacegroup(1, setting=1), 'unit_cell': 'conventional', u'name': 'struct_10'}\n",
      " {'spacegroup': Spacegroup(1, setting=1), 'unit_cell': 'conventional', u'name': 'struct_1'}\n",
      " {'spacegroup': Spacegroup(1, setting=1), 'unit_cell': 'conventional', u'name': 'struct_3'}\n",
      " {'spacegroup': Spacegroup(1, setting=1), 'unit_cell': 'conventional', u'name': 'struct_6'}\n",
      " {'spacegroup': Spacegroup(1, setting=1), 'unit_cell': 'conventional', u'name': 'struct_9'}] \n",
      "\n",
      "\n"
     ]
    }
   ],
   "source": [
    "# To access an individual structure, one can simply use indexing:\n",
    "a0 = aColl.structures[0]\n",
    "print '---- struct_0.cif positions ----\\n'\n",
    "print a0.get_positions(), '\\n\\n'\n",
    "\n",
    "# All properties and methods of Atoms objects are available on an entire collection too, by using\n",
    "# the meta-element 'all'\n",
    "\n",
    "print '---- all struct_*.cif positions----\\n'\n",
    "print aColl.all.get_positions(), '\\n\\n'\n",
    "\n",
    "print '---- all struct_*.cif info dictionaries----\\n'\n",
    "print aColl.all.info, '\\n\\n'"
   ]
  },
  {
   "cell_type": "code",
   "execution_count": 8,
   "metadata": {
    "collapsed": false
   },
   "outputs": [
    {
     "name": "stdout",
     "output_type": "stream",
     "text": [
      "---- Collection slice lengths ---- \n",
      "\n",
      "aColl02 = 2\taColl25 = 3\taColl05 = 5\n",
      "\n",
      "\n"
     ]
    }
   ],
   "source": [
    "# Collections can also be sliced like Numpy arrays for convenience\n",
    "aColl02 = aColl[0:2]\n",
    "aColl25 = aColl[2:5]\n",
    "\n",
    "# Then join them together\n",
    "aColl05 = aColl02+aColl25\n",
    "\n",
    "print \"---- Collection slice lengths ---- \\n\"\n",
    "print \"aColl02 = {0}\\taColl25 = {1}\\taColl05 = {2}\\n\\n\".format(aColl02.length, aColl25.length, aColl05.length)"
   ]
  },
  {
   "cell_type": "code",
   "execution_count": 11,
   "metadata": {
    "collapsed": false
   },
   "outputs": [
    {
     "name": "stdout",
     "output_type": "stream",
     "text": [
      "---- Getting an array from a collection ---- \n",
      "\n",
      "Unsorted:  [10  9  8  7  6  5  4  3  2  1] \n",
      "\n",
      "Sorted:  [ 1  2  3  4  5  6  7  8  9 10] \n",
      "\n",
      "\n",
      "---- First vs. last elements ---- \n",
      "\n",
      "[[ 5.79569455  2.89409981  0.06507472]\n",
      " [ 1.40122641  1.38759482  1.48040628]\n",
      " [ 2.96041901  2.9237308   2.86494199]\n",
      " [ 4.37069091  1.35628096  1.40592736]] \n",
      "\n",
      "[[ 5.79569455  2.89409981  0.06507472]\n",
      " [ 1.40122641  1.38759482  1.48040628]\n",
      " [ 2.96041901  2.9237308   2.86494199]\n",
      " [ 4.37069091  1.35628096  1.40592736]]\n"
     ]
    }
   ],
   "source": [
    "# Collections can also store \"arrays\" of data, similarly to Atoms objects in ase\n",
    "# These arrays' elements are tied each to one structure, and can be used to sort them\n",
    "\n",
    "arr = range(10, 0, -1) # Let's use this array to reverse the order of a collection\n",
    "\n",
    "aColl.set_array('reversed_range', arr)\n",
    "\n",
    "aCollSorted = aColl.sorted_byarray('reversed_range')\n",
    "\n",
    "print \"---- Getting an array from a collection ---- \\n\"\n",
    "print \"Unsorted: \", aColl.get_array('reversed_range'), \"\\n\"\n",
    "print \"Sorted: \", aCollSorted.get_array('reversed_range'), \"\\n\\n\"\n",
    "\n",
    "# And to make sure\n",
    "print \"---- First vs. last elements ---- \\n\"\n",
    "print aColl.structures[0].get_positions(), \"\\n\"\n",
    "print aCollSorted.structures[-1].get_positions()"
   ]
  },
  {
   "cell_type": "code",
   "execution_count": null,
   "metadata": {
    "collapsed": true
   },
   "outputs": [],
   "source": []
  }
 ],
 "metadata": {
  "kernelspec": {
   "display_name": "Python 2",
   "language": "python",
   "name": "python2"
  },
  "language_info": {
   "codemirror_mode": {
    "name": "ipython",
    "version": 2
   },
   "file_extension": ".py",
   "mimetype": "text/x-python",
   "name": "python",
   "nbconvert_exporter": "python",
   "pygments_lexer": "ipython2",
   "version": "2.7.10"
  }
 },
 "nbformat": 4,
 "nbformat_minor": 0
}
