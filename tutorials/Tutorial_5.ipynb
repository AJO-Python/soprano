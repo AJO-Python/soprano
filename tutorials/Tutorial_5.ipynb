{
 "cells": [
  {
   "cell_type": "markdown",
   "metadata": {},
   "source": [
    "# SOPRANO: a Python library for generation, manipulation and analysis of large batches of crystalline structures\n",
    "by Simone Sturniolo\n",
    "\n",
    "```\n",
    "      _\n",
    "    /|_|\\   \n",
    "   / / \\ \\  \n",
    "  /_/   \\_\\  \n",
    "  \\ \\   / /  \n",
    "   \\ \\_/ /  \n",
    "    \\|_|/  \n",
    "\n",
    "```\n",
    "    \n",
    "Developed within the CCP-NC project. Copyright STFC 2016\n",
    "\n",
    "\n",
    "### TUTORIAL 5 - NMR Properties: using Soprano for working with .magres files"
   ]
  },
  {
   "cell_type": "code",
   "execution_count": 1,
   "metadata": {
    "collapsed": true
   },
   "outputs": [],
   "source": [
    "# Basic imports\n",
    "import os, sys\n",
    "sys.path.insert(0, os.path.abspath('..')) # This to add the Soprano path to the PYTHONPATH\n",
    "                                          # so we can load it without installing it"
   ]
  },
  {
   "cell_type": "code",
   "execution_count": 2,
   "metadata": {
    "collapsed": true
   },
   "outputs": [],
   "source": [
    "# Other useful imports\n",
    "\n",
    "import numpy as np\n",
    "\n",
    "import ase\n",
    "from ase import io as ase_io"
   ]
  },
  {
   "cell_type": "markdown",
   "metadata": {},
   "source": [
    "## 1 - LOADING MAGRES FILES\n",
    "\n",
    "ASE now is compatible with the Magres file format as well. If your version of ASE does not support loading\n",
    "Magres files, try updating it or download the bleeding edge version from GitLab:\n",
    "\n",
    "https://gitlab.com/ase/ase"
   ]
  },
  {
   "cell_type": "code",
   "execution_count": 3,
   "metadata": {
    "collapsed": true
   },
   "outputs": [],
   "source": [
    "C2H5O = ase_io.read('tutorial_data/ethanol.magres')"
   ]
  },
  {
   "cell_type": "markdown",
   "metadata": {},
   "source": [
    "## 2 - LABELS AND INDICES\n",
    "\n",
    "Labels and indices used in the magres file are stored in their own arrays and can be easily accessed and used to \n",
    "select atoms."
   ]
  },
  {
   "cell_type": "code",
   "execution_count": 5,
   "metadata": {
    "collapsed": false
   },
   "outputs": [
    {
     "name": "stdout",
     "output_type": "stream",
     "text": [
      "There are 6 hydrogen atoms\n",
      "The C2 atom is positioned at x = -0.247915, y = 1.164107, z = 0.937396 Ang\n"
     ]
    }
   ],
   "source": [
    "labels = C2H5O.get_array('labels')\n",
    "indices = C2H5O.get_array('indices')\n",
    "\n",
    "# Select only the protons' indices\n",
    "H_i = np.where(labels == 'H')\n",
    "H = C2H5O[H_i]\n",
    "# Select only C2\n",
    "C2_i = np.where((labels == 'C') & (indices == 2))\n",
    "C2 = C2H5O[C2_i]\n",
    "\n",
    "print \"There are {0} hydrogen atoms\".format(len(H))\n",
    "print \"The C2 atom is positioned at x = {0}, y = {1}, z = {2} Ang\".format(*C2.get_positions()[0])"
   ]
  },
  {
   "cell_type": "code",
   "execution_count": 6,
   "metadata": {
    "collapsed": false
   },
   "outputs": [
    {
     "name": "stdout",
     "output_type": "stream",
     "text": [
      "The labels are H_1, H_2, H_3, H_4, H_5, H_6, C_1, C_2, O_1\n"
     ]
    }
   ],
   "source": [
    "# One can also recreate the Jmol-style labels if needed\n",
    "jmol_labels = [\"{0}_{1}\".format(l, i) for l, i in zip(labels, indices)]\n",
    "print \"The labels are {0}\".format(', '.join(jmol_labels))"
   ]
  },
  {
   "cell_type": "markdown",
   "metadata": {},
   "source": [
    "## 3 - MAGNETIC SHIELDINGS AND CHEMICAL SHIFTS\n",
    "\n",
    "All the NMR tensors stored in the original .magres file are saved as arrays in the Atoms object and can be accessed directly. However, Soprano also provides a set of properties to express the tensors in the form of parameters useful to compute the spectrum."
   ]
  },
  {
   "cell_type": "code",
   "execution_count": 7,
   "metadata": {
    "collapsed": false
   },
   "outputs": [
    {
     "name": "stdout",
     "output_type": "stream",
     "text": [
      "Label\tIsotropy\tAnisotropy\tAsymmetry\n",
      "H_1\t29.59 ppm\t8.94 ppm\t0.14\n",
      "H_2\t30.26 ppm\t8.19 ppm\t0.21\n",
      "H_3\t30.10 ppm\t7.29 ppm\t0.06\n",
      "H_4\t26.98 ppm\t8.17 ppm\t0.94\n",
      "H_5\t27.39 ppm\t-7.12 ppm\t0.93\n",
      "H_6\t31.98 ppm\t14.12 ppm\t0.45\n",
      "C_1\t156.47 ppm\t33.80 ppm\t0.70\n",
      "C_2\t109.86 ppm\t70.25 ppm\t0.41\n",
      "O_1\t268.03 ppm\t-51.38 ppm\t0.98\n"
     ]
    }
   ],
   "source": [
    "from soprano.properties.nmr import *\n",
    "\n",
    "# Isotropy, Anisotropy and Asymmetry (Haeberlen convention)\n",
    "iso = MSIsotropy.get(C2H5O)\n",
    "aniso = MSAnisotropy.get(C2H5O)\n",
    "asymm = MSAsymmetry.get(C2H5O)\n",
    "\n",
    "print 'Label\\tIsotropy\\tAnisotropy\\tAsymmetry'\n",
    "for i, jl in enumerate(jmol_labels):\n",
    "    print '{0}\\t{1:.2f} ppm\\t{2:.2f} ppm\\t{3:.2f}'.format(jl, iso[i], aniso[i], asymm[i])"
   ]
  },
  {
   "cell_type": "code",
   "execution_count": 8,
   "metadata": {
    "collapsed": false
   },
   "outputs": [
    {
     "name": "stdout",
     "output_type": "stream",
     "text": [
      "Label\tSpan\t\tSkew\n",
      "H_1\t9.36 ppm\t-0.82\n",
      "H_2\t8.76 ppm\t-0.74\n",
      "H_3\t7.43 ppm\t-0.92\n",
      "H_4\t10.72 ppm\t-0.05\n",
      "H_5\t-9.33 ppm\t-0.05\n",
      "H_6\t16.25 ppm\t-0.48\n",
      "C_1\t41.73 ppm\t-0.24\n",
      "C_2\t79.95 ppm\t-0.51\n",
      "O_1\t-68.22 ppm\t-0.01\n"
     ]
    }
   ],
   "source": [
    "# Span and skew\n",
    "span = MSSpan.get(C2H5O)\n",
    "skew = MSSkew.get(C2H5O)\n",
    "\n",
    "print 'Label\\tSpan\\t\\tSkew'\n",
    "for i, jl in enumerate(jmol_labels):\n",
    "    print '{0}\\t{1:.2f} ppm\\t{2:.2f}'.format(jl, span[i], skew[i])"
   ]
  },
  {
   "cell_type": "code",
   "execution_count": 13,
   "metadata": {
    "collapsed": false
   },
   "outputs": [
    {
     "name": "stdout",
     "output_type": "stream",
     "text": [
      "Label\talpha\tbeta\tgamma\n",
      "H_1\t26.84\t134.66\t-27.96\n",
      "H_2\t86.77\t77.37\t-92.66\n",
      "H_3\t-13.54\t144.86\t177.96\n",
      "H_4\t-64.85\t96.81\t177.34\n",
      "H_5\t-134.91\t116.78\t53.84\n",
      "H_6\t25.35\t137.71\t60.93\n",
      "C_1\t-27.03\t132.57\t-93.10\n",
      "C_2\t-138.63\t125.07\t-9.26\n",
      "O_1\t-125.99\t120.41\t66.77\n"
     ]
    }
   ],
   "source": [
    "# Quaternion (orientation of the tensor with respect to the Cartesian axes)\n",
    "# from which we extract the Euler angles\n",
    "\n",
    "quat = MSQuaternion.get(C2H5O)\n",
    "\n",
    "print 'Label\\talpha\\tbeta\\tgamma'\n",
    "for i, jl in enumerate(jmol_labels):\n",
    "    a, b, c = quat[i].euler_angles(mode='zyz')*180/np.pi # rad to degrees\n",
    "    print '{0}\\t{1:.2f}\\t{2:.2f}\\t{3:.2f}'.format(jl, a, b, c)"
   ]
  },
  {
   "cell_type": "markdown",
   "metadata": {},
   "source": [
    "## 4 - ELECTRIC FIELD GRADIENTS AND QUADRUPOLAR COUPLINGS\n",
    "\n",
    "Similarly named properties exist for the EFG tensors - EFGSpan, EFGAnisotropy, EFGQuaternion, etc. A few more are specific (and of course there's no EFGIsotropy, for obvious reasons).\n",
    "The most important difference is of course the introduction of the quadrupolar constant $\\chi$, namely:\n",
    "\n",
    "$\\chi = \\frac{e^2qQ}{h}$\n",
    "\n",
    "where $e$ is the elementary charge, $V_{zz}=eq$, $Q$ is the quadrupole moment of the given element and isotope and $h$ the Planck constant. This definition returns a frequency. If one wants a pulsation $\\omega$ it needs to multiplied by a factor of $2\\pi$."
   ]
  },
  {
   "cell_type": "code",
   "execution_count": 30,
   "metadata": {
    "collapsed": false
   },
   "outputs": [
    {
     "name": "stdout",
     "output_type": "stream",
     "text": [
      "Label\tVzz\t\tChi\n",
      "H_1\t 0.29 au\t 0.19 MHz\n",
      "H_2\t 0.28 au\t 0.19 MHz\n",
      "H_3\t 0.29 au\t 0.20 MHz\n",
      "H_4\t 0.27 au\t 0.18 MHz\n",
      "H_5\t 0.28 au\t 0.19 MHz\n",
      "H_6\t 0.44 au\t 0.30 MHz\n",
      "C_1\t 0.04 au\t 0.00 MHz\n",
      "C_2\t 0.40 au\t 0.00 MHz\n",
      "O_1\t-1.86 au\t11.19 MHz\n"
     ]
    }
   ],
   "source": [
    "# Vzz component, in atomic units\n",
    "\n",
    "vzz = EFGVzz.get(C2H5O)\n",
    "\n",
    "# For quadrupolar constants, isotopes become relevant. This means we need to create custom Property instances to\n",
    "# specify them. There are multiple ways to do so - check the docstrings for more details - but here we set them\n",
    "# by element. When nothing is specified it defaults to the most common NMR active isotope.\n",
    "\n",
    "qP = EFGQuadrupolarConstant(isotopes={'H': 2}) # Deuterated; for the others use the default\n",
    "qC = qP(C2H5O)/1e6 # To MHz\n",
    "\n",
    "print 'Label\\tVzz\\t\\tChi'\n",
    "for i, jl in enumerate(jmol_labels):\n",
    "    print '{0}\\t{1:5.2f} au\\t{2:5.2f} MHz'.format(jl, vzz[i], qC[i])"
   ]
  },
  {
   "cell_type": "code",
   "execution_count": null,
   "metadata": {
    "collapsed": true
   },
   "outputs": [],
   "source": []
  }
 ],
 "metadata": {
  "kernelspec": {
   "display_name": "Python 2",
   "language": "python",
   "name": "python2"
  },
  "language_info": {
   "codemirror_mode": {
    "name": "ipython",
    "version": 2
   },
   "file_extension": ".py",
   "mimetype": "text/x-python",
   "name": "python",
   "nbconvert_exporter": "python",
   "pygments_lexer": "ipython2",
   "version": "2.7.12"
  }
 },
 "nbformat": 4,
 "nbformat_minor": 1
}
