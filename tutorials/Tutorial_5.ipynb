{
 "cells": [
  {
   "cell_type": "markdown",
   "metadata": {},
   "source": [
    "# SOPRANO: a Python library for generation, manipulation and analysis of large batches of crystalline structures\n",
    "by Simone Sturniolo\n",
    "\n",
    "```\n",
    "      _\n",
    "    /|_|\\   \n",
    "   / / \\ \\  \n",
    "  /_/   \\_\\  \n",
    "  \\ \\   / /  \n",
    "   \\ \\_/ /  \n",
    "    \\|_|/  \n",
    "\n",
    "```\n",
    "    \n",
    "Developed within the CCP-NC project. Copyright STFC 2016\n",
    "\n",
    "\n",
    "### TUTORIAL 5 - NMR Properties: using Soprano for working with .magres files"
   ]
  },
  {
   "cell_type": "code",
   "execution_count": 1,
   "metadata": {
    "collapsed": true
   },
   "outputs": [],
   "source": [
    "# Basic imports\n",
    "import os, sys\n",
    "sys.path.insert(0, os.path.abspath('..')) # This to add the Soprano path to the PYTHONPATH\n",
    "                                          # so we can load it without installing it"
   ]
  },
  {
   "cell_type": "code",
   "execution_count": 2,
   "metadata": {
    "collapsed": true
   },
   "outputs": [],
   "source": [
    "# Other useful imports\n",
    "\n",
    "import numpy as np\n",
    "\n",
    "import ase\n",
    "from ase import io as ase_io"
   ]
  },
  {
   "cell_type": "markdown",
   "metadata": {},
   "source": [
    "## 1 - LOADING MAGRES FILES\n",
    "\n",
    "ASE now is compatible with the Magres file format as well. If your version of ASE does not support loading\n",
    "Magres files, try updating it or download the bleeding edge version from GitLab:\n",
    "\n",
    "https://gitlab.com/ase/ase"
   ]
  },
  {
   "cell_type": "code",
   "execution_count": 3,
   "metadata": {
    "collapsed": true
   },
   "outputs": [],
   "source": [
    "C2H5O = ase_io.read('tutorial_data/ethanol.magres')"
   ]
  },
  {
   "cell_type": "markdown",
   "metadata": {},
   "source": [
    "## 2 - LABELS AND INDICES\n",
    "\n",
    "Labels and indices used in the magres file are stored in their own arrays and can be easily accessed and used to \n",
    "select atoms."
   ]
  },
  {
   "cell_type": "code",
   "execution_count": 4,
   "metadata": {
    "collapsed": false
   },
   "outputs": [
    {
     "name": "stdout",
     "output_type": "stream",
     "text": [
      "There are 6 hydrogen atoms\n",
      "The C2 atom is positioned at x = -0.247915, y = 1.164107, z = 0.937396 Ang\n"
     ]
    }
   ],
   "source": [
    "labels = C2H5O.get_array('labels')\n",
    "indices = C2H5O.get_array('indices')\n",
    "\n",
    "# Select only the protons' indices\n",
    "H_i = np.where(labels == 'H')\n",
    "H = C2H5O[H_i]\n",
    "# Select only C2\n",
    "C2_i = np.where((labels == 'C')*(indices == 2))\n",
    "C2 = C2H5O[C2_i]\n",
    "\n",
    "print \"There are {0} hydrogen atoms\".format(len(H))\n",
    "print \"The C2 atom is positioned at x = {0}, y = {1}, z = {2} Ang\".format(*C2.get_positions()[0])"
   ]
  },
  {
   "cell_type": "code",
   "execution_count": 6,
   "metadata": {
    "collapsed": false
   },
   "outputs": [
    {
     "name": "stdout",
     "output_type": "stream",
     "text": [
      "The labels are H_1, H_2, H_3, H_4, H_5, H_6, C_1, C_2, O_1\n"
     ]
    }
   ],
   "source": [
    "# One can also recreate the Jmol-style labels if needed\n",
    "jmol_labels = [\"{0}_{1}\".format(l, i) for l, i in zip(labels, indices)]\n",
    "print \"The labels are {0}\".format(', '.join(jmol_labels))"
   ]
  },
  {
   "cell_type": "markdown",
   "metadata": {},
   "source": [
    "## 3 - MAGNETIC SHIELDINGS AND CHEMICAL SHIFTS\n",
    "\n",
    "All the NMR tensors stored in the original .magres file are saved as arrays in the Atoms object and can be accessed directly. However, Soprano also provides a set of properties to express the tensors in the form of parameters useful to compute the spectrum."
   ]
  },
  {
   "cell_type": "code",
   "execution_count": 11,
   "metadata": {
    "collapsed": false
   },
   "outputs": [
    {
     "name": "stdout",
     "output_type": "stream",
     "text": [
      "Label\tIsotropy\tAnisotropy\tAsymmetry\n",
      "H_1\t29.59 ppm\t8.94 ppm\t0.14\n",
      "H_2\t30.26 ppm\t8.19 ppm\t0.21\n",
      "H_3\t30.10 ppm\t7.29 ppm\t0.06\n",
      "H_4\t26.98 ppm\t8.17 ppm\t0.94\n",
      "H_5\t27.39 ppm\t-7.12 ppm\t0.93\n",
      "H_6\t31.98 ppm\t14.12 ppm\t0.45\n",
      "C_1\t156.47 ppm\t33.80 ppm\t0.70\n",
      "C_2\t109.86 ppm\t70.25 ppm\t0.41\n",
      "O_1\t268.03 ppm\t-51.38 ppm\t0.98\n"
     ]
    }
   ],
   "source": [
    "from soprano.properties.nmr import *\n",
    "\n",
    "# Isotropy, Anisotropy and Asymmetry (Haeberlen convention)\n",
    "iso = MSIsotropy.get(C2H5O)\n",
    "aniso = MSAnisotropy.get(C2H5O)\n",
    "asymm = MSAsymmetry.get(C2H5O)\n",
    "\n",
    "print 'Label\\tIsotropy\\tAnisotropy\\tAsymmetry'\n",
    "for i, jl in enumerate(jmol_labels):\n",
    "    print '{0}\\t{1:.2f} ppm\\t{2:.2f} ppm\\t{3:.2f}'.format(jl, iso[i], aniso[i], asymm[i])"
   ]
  },
  {
   "cell_type": "code",
   "execution_count": 9,
   "metadata": {
    "collapsed": false
   },
   "outputs": [
    {
     "name": "stdout",
     "output_type": "stream",
     "text": [
      "Label\tSpan\t\tSkew\n",
      "H_1\t9.36 ppm\t-0.82\n",
      "H_2\t8.76 ppm\t-0.74\n",
      "H_3\t7.43 ppm\t-0.92\n",
      "H_4\t10.72 ppm\t-0.05\n",
      "H_5\t9.33 ppm\t0.05\n",
      "H_6\t16.25 ppm\t-0.48\n",
      "C_1\t41.73 ppm\t-0.24\n",
      "C_2\t79.95 ppm\t-0.51\n",
      "O_1\t68.22 ppm\t0.01\n"
     ]
    }
   ],
   "source": [
    "# Span and skew\n",
    "span = MSSpan.get(C2H5O)\n",
    "skew = MSSkew.get(C2H5O)\n",
    "\n",
    "print 'Label\\tSpan\\t\\tSkew'\n",
    "for i, jl in enumerate(jmol_labels):\n",
    "    print '{0}\\t{1:.2f} ppm\\t{2:.2f}'.format(jl, span[i], skew[i])"
   ]
  },
  {
   "cell_type": "code",
   "execution_count": null,
   "metadata": {
    "collapsed": true
   },
   "outputs": [],
   "source": []
  }
 ],
 "metadata": {
  "kernelspec": {
   "display_name": "Python 2",
   "language": "python",
   "name": "python2"
  },
  "language_info": {
   "codemirror_mode": {
    "name": "ipython",
    "version": 2
   },
   "file_extension": ".py",
   "mimetype": "text/x-python",
   "name": "python",
   "nbconvert_exporter": "python",
   "pygments_lexer": "ipython2",
   "version": "2.7.12"
  }
 },
 "nbformat": 4,
 "nbformat_minor": 1
}
