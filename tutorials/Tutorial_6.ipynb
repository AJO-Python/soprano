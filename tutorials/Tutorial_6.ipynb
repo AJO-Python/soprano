{
 "cells": [
  {
   "cell_type": "markdown",
   "metadata": {},
   "source": [
    "# SOPRANO: a Python library for generation, manipulation and analysis of large batches of crystalline structures\n",
    "by Simone Sturniolo\n",
    "\n",
    "```\n",
    "      _\n",
    "    /|_|\\   \n",
    "   / / \\ \\  \n",
    "  /_/   \\_\\  \n",
    "  \\ \\   / /  \n",
    "   \\ \\_/ /  \n",
    "    \\|_|/  \n",
    "\n",
    "```\n",
    "    \n",
    "Developed within the CCP-NC project. Copyright STFC 2016\n",
    "\n",
    "\n",
    "### TUTORIAL 6 - Soprano for defect calculations"
   ]
  },
  {
   "cell_type": "code",
   "execution_count": null,
   "metadata": {
    "collapsed": true
   },
   "outputs": [],
   "source": [
    "# Basic imports\n",
    "import os, sys\n",
    "sys.path.insert(0, os.path.abspath('..')) # This to add the Soprano path to the PYTHONPATH\n",
    "                                          # so we can load it without installing it"
   ]
  },
  {
   "cell_type": "code",
   "execution_count": null,
   "metadata": {
    "collapsed": true
   },
   "outputs": [],
   "source": [
    "# Other useful imports\n",
    "\n",
    "import numpy as np\n",
    "\n",
    "import ase\n",
    "from ase import Atoms\n",
    "from ase.build import bulk, molecule\n",
    "\n",
    "%matplotlib notebook\n",
    "import matplotlib.pyplot as plt\n",
    "from mpl_toolkits.mplot3d import Axes3D"
   ]
  },
  {
   "cell_type": "markdown",
   "metadata": {},
   "source": [
    "## 1 - Creating defect structures\n",
    "\n",
    "Soprano has a number of functionalities dedicated to defect calculations. Some of these have been used in work on finding the site in which a muonium pseudo-atom would sit after relaxing inside a crystal ( [L. Liborio, S. Sturniolo et al, *Computational prediction of muon stopping sites using ab initio random structure searching (AIRSS)*](https://aip.scitation.org/doi/abs/10.1063/1.5024450) ).\n",
    "\n",
    "First, Soprano provides a number of generator functions to create defect structures, either randomly or in a specific way.\n",
    "\n",
    "`defectGen` allows creating structures with a single added interstitial defect, distributed in a way to fill the empty space in between atoms while never creating any two configurations where the defects are closer than a given radius, using a so-called [Poisson sphere distribution](https://pdfs.semanticscholar.org/26c3/490a9f2bdf8082d351639ff596f000f8e319.pdf). These are good starting points for a random structure search approach."
   ]
  },
  {
   "cell_type": "code",
   "execution_count": null,
   "metadata": {},
   "outputs": [],
   "source": [
    "from soprano.collection import AtomsCollection\n",
    "from soprano.collection.generate import defectGen, substitutionGen, additionGen\n",
    "\n",
    "si2 = bulk('Si') # Bulk silicon\n",
    "dG = defectGen(si2, 'H', poisson_r=0.6, vdw_scale=0.5) # poisson_r controls the minimum distance between two defects, \n",
    "                                                       # vdw_scale the one between defects and existing atoms\n",
    "                                                       # (proportional to both's Van der Waals radius)\n",
    "dColl = AtomsCollection(dG)\n",
    "\n",
    "# The smaller poisson_r, the more structures are generated. The process is random and the final number isn't fixed.\n",
    "print('{0} structures generated'.format(len(dColl)))"
   ]
  },
  {
   "cell_type": "code",
   "execution_count": null,
   "metadata": {},
   "outputs": [],
   "source": [
    "# By default, the defect is placed in position 0 in each new structure\n",
    "def_pos = dColl.all.get_positions()[:,0]\n",
    "\n",
    "fig = plt.figure()\n",
    "ax = fig.add_subplot(111, projection='3d')\n",
    "\n",
    "ax.scatter3D(*def_pos.T, c=(0, 0.5, 0.9), s=30) # Hydrogen defects are blue\n",
    "ax.scatter3D(*si2.get_positions().T, c=(0.9,0.5,0), s=200) # Silicon atoms are orange"
   ]
  },
  {
   "cell_type": "markdown",
   "metadata": {},
   "source": [
    "`substitutionGen` allows to simply replace one or more existing atoms with new ones. The replacements can be limited to only a specific selection, and can be accepted or rejected with a test function."
   ]
  },
  {
   "cell_type": "code",
   "execution_count": null,
   "metadata": {},
   "outputs": [],
   "source": [
    "from soprano.properties.linkage import Bonds\n",
    "from soprano.selection import AtomSelection\n",
    "\n",
    "# As an example, we generate a molecule of ethyl mercaptan\n",
    "ethmerc = molecule('CH3CH2SH')\n",
    "syms = ethmerc.get_chemical_symbols()\n",
    "bonds, bondmat = Bonds(return_matrix=True)(ethmerc)\n",
    "\n",
    "# Where are the hydrogens? And the sulfur?\n",
    "hsel = AtomSelection.from_element(ethmerc, 'H')\n",
    "ssel = AtomSelection.from_element(ethmerc, 'S')\n",
    "\n",
    "def isnot_S_bonded(s, subs):\n",
    "    # Return True only if none of the atoms in subs is bonded to sulfur\n",
    "    return np.all(bondmat[ssel.indices, list(subs)] == 0)\n",
    "\n",
    "# Substitute two hydrogens at a time with chlorine, but only if neither is bonded to sulfur\n",
    "sG = substitutionGen(ethmerc, 'Cl', to_replace=hsel, n=2, accept=isnot_S_bonded)\n",
    "\n",
    "sColl = AtomsCollection(sG)\n",
    "\n",
    "print('{0} structures generated'.format(len(sColl)))"
   ]
  },
  {
   "cell_type": "markdown",
   "metadata": {},
   "source": [
    "`additionGen` operates similarly, adding one or more atoms of the given species to a certain selection, and picking the direction to add them in a way that it will be as far as possible from existing bonds, again, under verification of an acceptance function if required."
   ]
  },
  {
   "cell_type": "code",
   "execution_count": null,
   "metadata": {},
   "outputs": [],
   "source": [
    "# We try additioning hydrogen to ethylene\n",
    "eth = molecule('C2H4')\n",
    "\n",
    "csel = AtomSelection.from_element(eth, 'C')\n",
    "aG = additionGen(eth, 'H', to_addition=csel, add_r=1.0)\n",
    "\n",
    "aColl = AtomsCollection(aG)\n",
    "\n",
    "# Should generate four structures: 2 carbon atoms x 2 possible directions (above and below the plane of the molecule)\n",
    "print('{0} structures generated'.format(len(aColl)))"
   ]
  },
  {
   "cell_type": "code",
   "execution_count": null,
   "metadata": {},
   "outputs": [],
   "source": [
    "# Plot structure with index s_i\n",
    "s_i = 0\n",
    "s = aColl.structures[s_i]\n",
    "\n",
    "pos = s.get_positions()\n",
    "csel = AtomSelection.from_element(s, 'C')\n",
    "hsel = AtomSelection.from_element(s, 'H')\n",
    "\n",
    "\n",
    "fig = plt.figure()\n",
    "ax = fig.add_subplot(111, projection='3d')\n",
    "\n",
    "ax.set_xlim(-3,3)\n",
    "ax.set_ylim(-3,3)\n",
    "ax.set_zlim(-3,3)\n",
    "\n",
    "ax.scatter3D(*pos[csel.indices].T, c=(0,0,0), s=200)\n",
    "ax.scatter3D(*pos[hsel.indices].T, c=(0,0.5,0.9), s=30)"
   ]
  },
  {
   "cell_type": "markdown",
   "metadata": {},
   "source": [
    "## 2 - Analysing defect structures\n",
    "\n",
    "A different problem when dealing with the results of random structure searching is how to group together a number of predicted defect positions that might be crystallographically equivalent. In Soprano, this is helped by a clustering gene called `defect_asymmetric_fdist`, for \"asymmetric fractional distance\". This is a pair gene (it only computes a distance between pairs of structures and only allows for hierarchical clustering), and it computes how close in fractional coordinates two defects can get if all possible symmetry operations that apply to a given pure structure are tried to bring them together. The distance itself has no specific physical meaning as it's in fractional space, but it works well to group the defects together if there's a meaningful structure to begin with. The gene requires having the space group library `spglib` installed."
   ]
  },
  {
   "cell_type": "code",
   "execution_count": null,
   "metadata": {
    "collapsed": true
   },
   "outputs": [],
   "source": [
    "from scipy.cluster.hierarchy import dendrogram\n",
    "from soprano.analyse.phylogen import PhylogenCluster, Gene\n",
    "\n",
    "# Let's create a number of different possible sites in silicon, split in two groups: tetrahedral and bond-centred site,\n",
    "# but within a number of equivalent coordinates, and with some noise added in.\n",
    "\n",
    "def_fpos = np.array([\n",
    "    [0.125]*3,\n",
    "    [0.125*5, 0.125, 0.125],\n",
    "    [0.125]*3,\n",
    "    [0.125*5, 0.125, 0.125],\n",
    "    [0.5]*3,\n",
    "    [0.75]*3,\n",
    "    [0.5]*3,\n",
    "    [0.75]*3\n",
    "])\n",
    "\n",
    "def_fpos += (np.random.random(def_fpos.shape)-0.5)*0.05\n",
    "\n",
    "defColl = AtomsCollection([Atoms('H', scaled_positions=[fp], cell=si2.get_cell())+si2 for fp in def_fpos])\n",
    "\n",
    "# Specify that the defect is at index 0, and that the pure structure is si2\n",
    "dafGene = Gene('defect_asymmetric_fdist', params={'struct': si2, 'index': 0})\n",
    "\n",
    "defClust = PhylogenCluster(defColl, genes=[dafGene])"
   ]
  },
  {
   "cell_type": "code",
   "execution_count": null,
   "metadata": {},
   "outputs": [],
   "source": [
    "Z = defClust.get_linkage()\n",
    "\n",
    "fig = plt.figure()\n",
    "ax = fig.add_subplot(111)\n",
    "\n",
    "# The structures should be neatly split in two clusters of four\n",
    "dd = dendrogram(Z, ax=ax)"
   ]
  },
  {
   "cell_type": "code",
   "execution_count": null,
   "metadata": {
    "collapsed": true
   },
   "outputs": [],
   "source": []
  }
 ],
 "metadata": {
  "kernelspec": {
   "display_name": "Python 2",
   "language": "python",
   "name": "python2"
  },
  "language_info": {
   "codemirror_mode": {
    "name": "ipython",
    "version": 2
   },
   "file_extension": ".py",
   "mimetype": "text/x-python",
   "name": "python",
   "nbconvert_exporter": "python",
   "pygments_lexer": "ipython2",
   "version": "2.7.13"
  }
 },
 "nbformat": 4,
 "nbformat_minor": 2
}
